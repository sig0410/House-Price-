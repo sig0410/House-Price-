{
 "cells": [
  {
   "cell_type": "code",
   "execution_count": 1,
   "metadata": {},
   "outputs": [],
   "source": [
    "import numpy as np\n",
    "import pandas as pd\n",
    "import seaborn as sns\n",
    "from sklearn import datasets\n",
    "import matplotlib.pyplot as plt\n",
    "import seaborn as sns\n",
    "from matplotlib import rc, font_manager\n",
    "rc('font', family='NanumSquareR')"
   ]
  },
  {
   "cell_type": "markdown",
   "metadata": {},
   "source": [
    "# 아파트 실거래가 예측 #"
   ]
  },
  {
   "cell_type": "code",
   "execution_count": 2,
   "metadata": {},
   "outputs": [],
   "source": [
    "train = pd.read_csv('./apt train.csv')"
   ]
  },
  {
   "cell_type": "code",
   "execution_count": 62,
   "metadata": {},
   "outputs": [],
   "source": [
    "test = pd.read_csv('./apt test.csv')"
   ]
  },
  {
   "cell_type": "code",
   "execution_count": 3,
   "metadata": {
    "scrolled": true
   },
   "outputs": [
    {
     "data": {
      "text/html": [
       "<div>\n",
       "<style scoped>\n",
       "    .dataframe tbody tr th:only-of-type {\n",
       "        vertical-align: middle;\n",
       "    }\n",
       "\n",
       "    .dataframe tbody tr th {\n",
       "        vertical-align: top;\n",
       "    }\n",
       "\n",
       "    .dataframe thead th {\n",
       "        text-align: right;\n",
       "    }\n",
       "</style>\n",
       "<table border=\"1\" class=\"dataframe\">\n",
       "  <thead>\n",
       "    <tr style=\"text-align: right;\">\n",
       "      <th></th>\n",
       "      <th>transaction_id</th>\n",
       "      <th>apartment_id</th>\n",
       "      <th>city</th>\n",
       "      <th>dong</th>\n",
       "      <th>jibun</th>\n",
       "      <th>apt</th>\n",
       "      <th>addr_kr</th>\n",
       "      <th>exclusive_use_area</th>\n",
       "      <th>year_of_completion</th>\n",
       "      <th>transaction_year_month</th>\n",
       "      <th>transaction_date</th>\n",
       "      <th>floor</th>\n",
       "      <th>transaction_real_price</th>\n",
       "    </tr>\n",
       "  </thead>\n",
       "  <tbody>\n",
       "    <tr>\n",
       "      <td>0</td>\n",
       "      <td>0</td>\n",
       "      <td>7622</td>\n",
       "      <td>서울특별시</td>\n",
       "      <td>신교동</td>\n",
       "      <td>6-13</td>\n",
       "      <td>신현(101동)</td>\n",
       "      <td>신교동 6-13 신현(101동)</td>\n",
       "      <td>84.82</td>\n",
       "      <td>2002</td>\n",
       "      <td>200801</td>\n",
       "      <td>21~31</td>\n",
       "      <td>2</td>\n",
       "      <td>37500</td>\n",
       "    </tr>\n",
       "    <tr>\n",
       "      <td>1</td>\n",
       "      <td>1</td>\n",
       "      <td>5399</td>\n",
       "      <td>서울특별시</td>\n",
       "      <td>필운동</td>\n",
       "      <td>142</td>\n",
       "      <td>사직파크맨션</td>\n",
       "      <td>필운동 142 사직파크맨션</td>\n",
       "      <td>99.17</td>\n",
       "      <td>1973</td>\n",
       "      <td>200801</td>\n",
       "      <td>1~10</td>\n",
       "      <td>6</td>\n",
       "      <td>20000</td>\n",
       "    </tr>\n",
       "    <tr>\n",
       "      <td>2</td>\n",
       "      <td>2</td>\n",
       "      <td>3578</td>\n",
       "      <td>서울특별시</td>\n",
       "      <td>필운동</td>\n",
       "      <td>174-1</td>\n",
       "      <td>두레엘리시안</td>\n",
       "      <td>필운동 174-1 두레엘리시안</td>\n",
       "      <td>84.74</td>\n",
       "      <td>2007</td>\n",
       "      <td>200801</td>\n",
       "      <td>1~10</td>\n",
       "      <td>6</td>\n",
       "      <td>38500</td>\n",
       "    </tr>\n",
       "    <tr>\n",
       "      <td>3</td>\n",
       "      <td>3</td>\n",
       "      <td>10957</td>\n",
       "      <td>서울특별시</td>\n",
       "      <td>내수동</td>\n",
       "      <td>95</td>\n",
       "      <td>파크팰리스</td>\n",
       "      <td>내수동 95 파크팰리스</td>\n",
       "      <td>146.39</td>\n",
       "      <td>2003</td>\n",
       "      <td>200801</td>\n",
       "      <td>11~20</td>\n",
       "      <td>15</td>\n",
       "      <td>118000</td>\n",
       "    </tr>\n",
       "    <tr>\n",
       "      <td>4</td>\n",
       "      <td>4</td>\n",
       "      <td>10639</td>\n",
       "      <td>서울특별시</td>\n",
       "      <td>내수동</td>\n",
       "      <td>110-15</td>\n",
       "      <td>킹스매너</td>\n",
       "      <td>내수동 110-15 킹스매너</td>\n",
       "      <td>194.43</td>\n",
       "      <td>2004</td>\n",
       "      <td>200801</td>\n",
       "      <td>21~31</td>\n",
       "      <td>3</td>\n",
       "      <td>120000</td>\n",
       "    </tr>\n",
       "  </tbody>\n",
       "</table>\n",
       "</div>"
      ],
      "text/plain": [
       "   transaction_id  apartment_id   city dong   jibun       apt  \\\n",
       "0               0          7622  서울특별시  신교동    6-13  신현(101동)   \n",
       "1               1          5399  서울특별시  필운동     142    사직파크맨션   \n",
       "2               2          3578  서울특별시  필운동   174-1    두레엘리시안   \n",
       "3               3         10957  서울특별시  내수동      95     파크팰리스   \n",
       "4               4         10639  서울특별시  내수동  110-15      킹스매너   \n",
       "\n",
       "             addr_kr  exclusive_use_area  year_of_completion  \\\n",
       "0  신교동 6-13 신현(101동)               84.82                2002   \n",
       "1     필운동 142 사직파크맨션               99.17                1973   \n",
       "2   필운동 174-1 두레엘리시안               84.74                2007   \n",
       "3       내수동 95 파크팰리스              146.39                2003   \n",
       "4    내수동 110-15 킹스매너              194.43                2004   \n",
       "\n",
       "   transaction_year_month transaction_date  floor  transaction_real_price  \n",
       "0                  200801            21~31      2                   37500  \n",
       "1                  200801             1~10      6                   20000  \n",
       "2                  200801             1~10      6                   38500  \n",
       "3                  200801            11~20     15                  118000  \n",
       "4                  200801            21~31      3                  120000  "
      ]
     },
     "execution_count": 3,
     "metadata": {},
     "output_type": "execute_result"
    }
   ],
   "source": [
    "train.head()"
   ]
  },
  {
   "cell_type": "code",
   "execution_count": 4,
   "metadata": {
    "scrolled": false
   },
   "outputs": [
    {
     "name": "stdout",
     "output_type": "stream",
     "text": [
      "<class 'pandas.core.frame.DataFrame'>\n",
      "RangeIndex: 1216553 entries, 0 to 1216552\n",
      "Data columns (total 13 columns):\n",
      "transaction_id            1216553 non-null int64\n",
      "apartment_id              1216553 non-null int64\n",
      "city                      1216553 non-null object\n",
      "dong                      1216553 non-null object\n",
      "jibun                     1216553 non-null object\n",
      "apt                       1216553 non-null object\n",
      "addr_kr                   1216553 non-null object\n",
      "exclusive_use_area        1216553 non-null float64\n",
      "year_of_completion        1216553 non-null int64\n",
      "transaction_year_month    1216553 non-null int64\n",
      "transaction_date          1216553 non-null object\n",
      "floor                     1216553 non-null int64\n",
      "transaction_real_price    1216553 non-null int64\n",
      "dtypes: float64(1), int64(6), object(6)\n",
      "memory usage: 120.7+ MB\n"
     ]
    }
   ],
   "source": [
    "train.info()"
   ]
  },
  {
   "cell_type": "code",
   "execution_count": 5,
   "metadata": {},
   "outputs": [
    {
     "data": {
      "text/plain": [
       "array(['신교동', '필운동', '내수동', '인의동', '이화동', '명륜1가', '명륜2가', '창신동', '숭인동',\n",
       "       '평창동', '무악동', '누상동', '수송동', '익선동', '동숭동', '부암동', '낙원동', '교북동',\n",
       "       '행촌동', '신영동', '신문로1가', '청운동', '견지동', '사직동', '혜화동', '통인동', '명륜3가',\n",
       "       '당주동', '구기동', '연건동', '충신동', '옥인동', '장충동2가', '신당동', '순화동', '중림동',\n",
       "       '만리동1가', '회현동1가', '산림동', '남산동2가', '인현동2가', '묵정동', '흥인동', '충무로4가',\n",
       "       '을지로5가', '황학동', '장충동1가', '정동', '필동3가', '만리동2가', '예장동', '필동1가',\n",
       "       '남대문로5가', '회현동2가', '남창동', '오장동', '충무로5가', '후암동', '신창동', '산천동',\n",
       "       '원효로4가', '효창동', '도원동', '문배동', '한강로2가', '한강로3가', '이촌동', '이태원동',\n",
       "       '한남동', '서빙고동', '보광동', '동자동', '청파동1가', '용문동', '한강로1가', '청파동3가',\n",
       "       '동빙고동', '원효로1가', '원효로2가', '청암동', '용산동2가', '용산동5가', '갈월동', '원효로3가',\n",
       "       '주성동', '신계동', '하왕십리동', '홍익동', '마장동', '사근동', '행당동', '응봉동', '금호동1가',\n",
       "       '금호동3가', '금호동4가', '옥수동', '성수동1가', '성수동2가', '용답동', '도선동', '송정동',\n",
       "       '금호동2가', '상왕십리동', '중곡동', '구의동', '광장동', '자양동', '화양동', '군자동', '능동',\n",
       "       '용두동', '제기동', '전농동', '답십리동', '장안동', '청량리동', '회기동', '휘경동', '이문동',\n",
       "       '신설동', '면목동', '상봉동', '중화동', '묵동', '망우동', '신내동', '돈암동', '동소문동4가',\n",
       "       '동소문동7가', '삼선동3가', '삼선동4가', '삼선동5가', '안암동1가', '안암동3가', '보문동6가',\n",
       "       '보문동3가', '정릉동', '길음동', '종암동', '하월곡동', '상월곡동', '장위동', '석관동',\n",
       "       '보문동2가', '동소문동5가', '동소문동6가', '삼선동2가', '성북동', '동선동3가', '안암동4가',\n",
       "       '동선동5가', '동선동4가', '동선동1가', '보문동4가', '성북동1가', '미아동', '번동', '수유동',\n",
       "       '우이동', '쌍문동', '방학동', '창동', '도봉동', '월계동', '공릉동', '하계동', '상계동',\n",
       "       '중계동', '수색동', '녹번동', '불광동', '갈현동', '구산동', '대조동', '응암동', '역촌동',\n",
       "       '신사동', '증산동', '진관동', '충정로3가', '천연동', '영천동', '현저동', '홍제동', '대현동',\n",
       "       '연희동', '홍은동', '북가좌동', '남가좌동', '북아현동', '창천동', '냉천동', '충정로2가', '미근동',\n",
       "       '합동', '아현동', '공덕동', '신공덕동', '도화동', '용강동', '토정동', '마포동', '대흥동',\n",
       "       '염리동', '노고산동', '신수동', '현석동', '창전동', '신정동', '서교동', '동교동', '합정동',\n",
       "       '망원동', '연남동', '성산동', '중동', '상암동', '상수동', '하중동', '구수동', '목동', '신월동',\n",
       "       '염창동', '등촌동', '화곡동', '가양동', '마곡동', '내발산동', '방화동', '공항동', '신도림동',\n",
       "       '구로동', '고척동', '개봉동', '오류동', '궁동', '항동', '가리봉동', '온수동', '천왕동',\n",
       "       '가산동', '독산동', '시흥동', '영등포동', '영등포동1가', '영등포동7가', '영등포동8가', '여의도동',\n",
       "       '당산동1가', '당산동2가', '당산동3가', '당산동4가', '당산동5가', '당산동', '도림동', '문래동3가',\n",
       "       '문래동4가', '문래동5가', '문래동6가', '양평동1가', '양평동2가', '양평동3가', '양평동4가',\n",
       "       '양평동5가', '양평동6가', '신길동', '대림동', '문래동2가', '영등포동5가', '당산동6가',\n",
       "       '영등포동4가', '영등포동2가', '영등포동3가', '노량진동', '상도동', '상도1동', '본동', '흑석동',\n",
       "       '사당동', '대방동', '신대방동', '동작동', '봉천동', '신림동', '남현동', '방배동', '양재동',\n",
       "       '우면동', '잠원동', '반포동', '서초동', '신원동', '내곡동', '역삼동', '개포동', '청담동',\n",
       "       '삼성동', '대치동', '논현동', '압구정동', '일원동', '수서동', '도곡동', '세곡동', '자곡동',\n",
       "       '율현동', '잠실동', '신천동', '풍납동', '송파동', '석촌동', '삼전동', '가락동', '문정동',\n",
       "       '장지동', '방이동', '오금동', '거여동', '마천동', '명일동', '고덕동', '상일동', '길동',\n",
       "       '둔촌동', '암사동', '성내동', '천호동', '강일동', '영주동', '대청동4가', '보수동1가',\n",
       "       '부평동2가', '부평동4가', '신창동2가', '동광동5가', '신창동1가', '보수동3가', '보수동2가',\n",
       "       '대창동1가', '중앙동4가', '대청동2가', '대청동1가', '동대신동1가', '동대신동2가', '동대신동3가',\n",
       "       '서대신동1가', '서대신동2가', '서대신동3가', '부민동3가', '토성동1가', '토성동5가', '남부민동',\n",
       "       '암남동', '부용동1가', '토성동3가', '아미동2가', '부민동1가', '충무동2가', '토성동2가', '초장동',\n",
       "       '초량동', '수정동', '좌천동', '범일동', '대평동1가', '남항동1가', '남항동3가', '영선동2가',\n",
       "       '영선동3가', '영선동4가', '신선동2가', '봉래동1가', '봉래동2가', '봉래동3가', '봉래동4가',\n",
       "       '봉래동5가', '청학동', '동삼동', '대교동2가', '영선동1가', '남항동2가', '신선동3가', '대교동1가',\n",
       "       '양정동', '전포동', '부전동', '범천동', '연지동', '초읍동', '당감동', '가야동', '개금동',\n",
       "       '범전동', '명장동', '안락동', '낙민동', '복천동', '수안동', '명륜동', '온천동', '칠산동',\n",
       "       '대연동', '용호동', '용당동', '문현동', '우암동', '감만동', '금곡동', '화명동', '만덕동',\n",
       "       '덕천동', '구포동', '반송동', '반여동', '재송동', '우동', '좌동', '괴정동', '당리동', '하단동',\n",
       "       '신평동', '장림동', '다대동', '구평동', '감천동', '청룡동', '남산동', '구서동', '장전동',\n",
       "       '부곡동', '서동', '금사동', '회동동', '신호동', '명지동', '지사동', '거제동', '연산동',\n",
       "       '망미동', '수영동', '민락동', '광안동', '남천동', '삼락동', '모라동', '덕포동', '괘법동',\n",
       "       '감전동', '주례동', '학장동', '엄궁동', '기장읍 동부리', '기장읍 교리', '기장읍 서부리',\n",
       "       '기장읍 대라리', '기장읍 청강리', '정관읍 달산리', '일광면 삼성리', '일광면 이천리', '기장읍 대변리',\n",
       "       '정관읍 방곡리', '정관읍 용수리', '정관읍 매학리', '정관읍 모전리', '기장읍 내리', '철마면 고촌리',\n",
       "       '장안읍 명례리', '장안읍 좌천리', '교남동', '효제동', '충무동1가', '대저1동', '녹산동'],\n",
       "      dtype=object)"
      ]
     },
     "execution_count": 5,
     "metadata": {},
     "output_type": "execute_result"
    }
   ],
   "source": [
    "train['dong'].unique()\n",
    "#동이 너무 많다 \n",
    "#나중에 삭제 "
   ]
  },
  {
   "cell_type": "code",
   "execution_count": 6,
   "metadata": {},
   "outputs": [
    {
     "data": {
      "text/plain": [
       "0           7622\n",
       "1           5399\n",
       "2           3578\n",
       "3          10957\n",
       "4          10639\n",
       "           ...  \n",
       "1216548     9578\n",
       "1216549     9578\n",
       "1216550     9578\n",
       "1216551     9586\n",
       "1216552     9578\n",
       "Name: apartment_id, Length: 1216553, dtype: int64"
      ]
     },
     "execution_count": 6,
     "metadata": {},
     "output_type": "execute_result"
    }
   ],
   "source": [
    "train['apartment_id']"
   ]
  },
  {
   "cell_type": "code",
   "execution_count": 7,
   "metadata": {},
   "outputs": [
    {
     "data": {
      "text/plain": [
       "<matplotlib.collections.PathCollection at 0x102484fd0>"
      ]
     },
     "execution_count": 7,
     "metadata": {},
     "output_type": "execute_result"
    },
    {
     "name": "stderr",
     "output_type": "stream",
     "text": [
      "findfont: Font family ['NanumSquareR'] not found. Falling back to DejaVu Sans.\n"
     ]
    },
    {
     "data": {
      "image/png": "[encoded data removed]",
      "text/plain": [
       "<Figure size 432x288 with 1 Axes>"
      ]
     },
     "metadata": {
      "needs_background": "light"
     },
     "output_type": "display_data"
    }
   ],
   "source": [
    "plt.scatter(train['apartment_id'], train['transaction_real_price'])"
   ]
  },
  {
   "cell_type": "code",
   "execution_count": 8,
   "metadata": {},
   "outputs": [],
   "source": [
    "train['city']= pd.get_dummies(train['city'])\n",
    "#서울 0 부산 1"
   ]
  },
  {
   "cell_type": "code",
   "execution_count": 9,
   "metadata": {
    "scrolled": true
   },
   "outputs": [
    {
     "data": {
      "text/html": [
       "<div>\n",
       "<style scoped>\n",
       "    .dataframe tbody tr th:only-of-type {\n",
       "        vertical-align: middle;\n",
       "    }\n",
       "\n",
       "    .dataframe tbody tr th {\n",
       "        vertical-align: top;\n",
       "    }\n",
       "\n",
       "    .dataframe thead th {\n",
       "        text-align: right;\n",
       "    }\n",
       "</style>\n",
       "<table border=\"1\" class=\"dataframe\">\n",
       "  <thead>\n",
       "    <tr style=\"text-align: right;\">\n",
       "      <th></th>\n",
       "      <th>transaction_id</th>\n",
       "      <th>apartment_id</th>\n",
       "      <th>city</th>\n",
       "      <th>dong</th>\n",
       "      <th>jibun</th>\n",
       "      <th>apt</th>\n",
       "      <th>addr_kr</th>\n",
       "      <th>exclusive_use_area</th>\n",
       "      <th>year_of_completion</th>\n",
       "      <th>transaction_year_month</th>\n",
       "      <th>transaction_date</th>\n",
       "      <th>floor</th>\n",
       "      <th>transaction_real_price</th>\n",
       "    </tr>\n",
       "  </thead>\n",
       "  <tbody>\n",
       "    <tr>\n",
       "      <td>0</td>\n",
       "      <td>0</td>\n",
       "      <td>7622</td>\n",
       "      <td>0</td>\n",
       "      <td>신교동</td>\n",
       "      <td>6-13</td>\n",
       "      <td>신현(101동)</td>\n",
       "      <td>신교동 6-13 신현(101동)</td>\n",
       "      <td>84.82</td>\n",
       "      <td>2002</td>\n",
       "      <td>200801</td>\n",
       "      <td>21~31</td>\n",
       "      <td>2</td>\n",
       "      <td>37500</td>\n",
       "    </tr>\n",
       "    <tr>\n",
       "      <td>1</td>\n",
       "      <td>1</td>\n",
       "      <td>5399</td>\n",
       "      <td>0</td>\n",
       "      <td>필운동</td>\n",
       "      <td>142</td>\n",
       "      <td>사직파크맨션</td>\n",
       "      <td>필운동 142 사직파크맨션</td>\n",
       "      <td>99.17</td>\n",
       "      <td>1973</td>\n",
       "      <td>200801</td>\n",
       "      <td>1~10</td>\n",
       "      <td>6</td>\n",
       "      <td>20000</td>\n",
       "    </tr>\n",
       "    <tr>\n",
       "      <td>2</td>\n",
       "      <td>2</td>\n",
       "      <td>3578</td>\n",
       "      <td>0</td>\n",
       "      <td>필운동</td>\n",
       "      <td>174-1</td>\n",
       "      <td>두레엘리시안</td>\n",
       "      <td>필운동 174-1 두레엘리시안</td>\n",
       "      <td>84.74</td>\n",
       "      <td>2007</td>\n",
       "      <td>200801</td>\n",
       "      <td>1~10</td>\n",
       "      <td>6</td>\n",
       "      <td>38500</td>\n",
       "    </tr>\n",
       "    <tr>\n",
       "      <td>3</td>\n",
       "      <td>3</td>\n",
       "      <td>10957</td>\n",
       "      <td>0</td>\n",
       "      <td>내수동</td>\n",
       "      <td>95</td>\n",
       "      <td>파크팰리스</td>\n",
       "      <td>내수동 95 파크팰리스</td>\n",
       "      <td>146.39</td>\n",
       "      <td>2003</td>\n",
       "      <td>200801</td>\n",
       "      <td>11~20</td>\n",
       "      <td>15</td>\n",
       "      <td>118000</td>\n",
       "    </tr>\n",
       "    <tr>\n",
       "      <td>4</td>\n",
       "      <td>4</td>\n",
       "      <td>10639</td>\n",
       "      <td>0</td>\n",
       "      <td>내수동</td>\n",
       "      <td>110-15</td>\n",
       "      <td>킹스매너</td>\n",
       "      <td>내수동 110-15 킹스매너</td>\n",
       "      <td>194.43</td>\n",
       "      <td>2004</td>\n",
       "      <td>200801</td>\n",
       "      <td>21~31</td>\n",
       "      <td>3</td>\n",
       "      <td>120000</td>\n",
       "    </tr>\n",
       "  </tbody>\n",
       "</table>\n",
       "</div>"
      ],
      "text/plain": [
       "   transaction_id  apartment_id  city dong   jibun       apt  \\\n",
       "0               0          7622     0  신교동    6-13  신현(101동)   \n",
       "1               1          5399     0  필운동     142    사직파크맨션   \n",
       "2               2          3578     0  필운동   174-1    두레엘리시안   \n",
       "3               3         10957     0  내수동      95     파크팰리스   \n",
       "4               4         10639     0  내수동  110-15      킹스매너   \n",
       "\n",
       "             addr_kr  exclusive_use_area  year_of_completion  \\\n",
       "0  신교동 6-13 신현(101동)               84.82                2002   \n",
       "1     필운동 142 사직파크맨션               99.17                1973   \n",
       "2   필운동 174-1 두레엘리시안               84.74                2007   \n",
       "3       내수동 95 파크팰리스              146.39                2003   \n",
       "4    내수동 110-15 킹스매너              194.43                2004   \n",
       "\n",
       "   transaction_year_month transaction_date  floor  transaction_real_price  \n",
       "0                  200801            21~31      2                   37500  \n",
       "1                  200801             1~10      6                   20000  \n",
       "2                  200801             1~10      6                   38500  \n",
       "3                  200801            11~20     15                  118000  \n",
       "4                  200801            21~31      3                  120000  "
      ]
     },
     "execution_count": 9,
     "metadata": {},
     "output_type": "execute_result"
    }
   ],
   "source": [
    "train.head()"
   ]
  },
  {
   "cell_type": "code",
   "execution_count": 10,
   "metadata": {
    "scrolled": false
   },
   "outputs": [
    {
     "data": {
      "text/plain": [
       "array(['21~31', '1~10', '11~20', '21~29', '21~30', '21~28'], dtype=object)"
      ]
     },
     "execution_count": 10,
     "metadata": {},
     "output_type": "execute_result"
    }
   ],
   "source": [
    "train['transaction_date'].unique()"
   ]
  },
  {
   "cell_type": "code",
   "execution_count": 11,
   "metadata": {
    "scrolled": true
   },
   "outputs": [
    {
     "data": {
      "text/plain": [
       "transaction_id            0\n",
       "apartment_id              0\n",
       "city                      0\n",
       "dong                      0\n",
       "jibun                     0\n",
       "apt                       0\n",
       "addr_kr                   0\n",
       "exclusive_use_area        0\n",
       "year_of_completion        0\n",
       "transaction_year_month    0\n",
       "transaction_date          0\n",
       "floor                     0\n",
       "transaction_real_price    0\n",
       "dtype: int64"
      ]
     },
     "execution_count": 11,
     "metadata": {},
     "output_type": "execute_result"
    }
   ],
   "source": [
    "train.isnull().sum()"
   ]
  },
  {
   "cell_type": "markdown",
   "metadata": {},
   "source": [
    "### 거래날짜를 구간화"
   ]
  },
  {
   "cell_type": "markdown",
   "metadata": {},
   "source": [
    "#### 다변량 범주들을 맵핑하는법 ####"
   ]
  },
  {
   "cell_type": "code",
   "execution_count": 12,
   "metadata": {
    "scrolled": true
   },
   "outputs": [
    {
     "data": {
      "text/plain": [
       "array(['21~31', '1~10', '11~20', '21~29', '21~30', '21~28'], dtype=object)"
      ]
     },
     "execution_count": 12,
     "metadata": {},
     "output_type": "execute_result"
    }
   ],
   "source": [
    "train['transaction_date'].unique()"
   ]
  },
  {
   "cell_type": "code",
   "execution_count": 13,
   "metadata": {},
   "outputs": [],
   "source": [
    "name_mapping = {'1~10': '1',\"11~20\" : '2', '21~28' :'3','21~29' : '3', '21~30' : '3', '21~31' : '3'}"
   ]
  },
  {
   "cell_type": "code",
   "execution_count": 14,
   "metadata": {
    "scrolled": false
   },
   "outputs": [
    {
     "data": {
      "text/plain": [
       "{'1~10': '1',\n",
       " '11~20': '2',\n",
       " '21~28': '3',\n",
       " '21~29': '3',\n",
       " '21~30': '3',\n",
       " '21~31': '3'}"
      ]
     },
     "execution_count": 14,
     "metadata": {},
     "output_type": "execute_result"
    }
   ],
   "source": [
    "name_mapping"
   ]
  },
  {
   "cell_type": "code",
   "execution_count": 15,
   "metadata": {},
   "outputs": [],
   "source": [
    "transaction_date1 = lambda x: name_mapping.get(x,x)"
   ]
  },
  {
   "cell_type": "code",
   "execution_count": 16,
   "metadata": {},
   "outputs": [],
   "source": [
    "train['transaction_date1']=train.transaction_date.map(transaction_date1)"
   ]
  },
  {
   "cell_type": "code",
   "execution_count": 17,
   "metadata": {},
   "outputs": [
    {
     "data": {
      "text/html": [
       "<div>\n",
       "<style scoped>\n",
       "    .dataframe tbody tr th:only-of-type {\n",
       "        vertical-align: middle;\n",
       "    }\n",
       "\n",
       "    .dataframe tbody tr th {\n",
       "        vertical-align: top;\n",
       "    }\n",
       "\n",
       "    .dataframe thead th {\n",
       "        text-align: right;\n",
       "    }\n",
       "</style>\n",
       "<table border=\"1\" class=\"dataframe\">\n",
       "  <thead>\n",
       "    <tr style=\"text-align: right;\">\n",
       "      <th></th>\n",
       "      <th>transaction_id</th>\n",
       "      <th>apartment_id</th>\n",
       "      <th>city</th>\n",
       "      <th>dong</th>\n",
       "      <th>jibun</th>\n",
       "      <th>apt</th>\n",
       "      <th>addr_kr</th>\n",
       "      <th>exclusive_use_area</th>\n",
       "      <th>year_of_completion</th>\n",
       "      <th>transaction_year_month</th>\n",
       "      <th>transaction_date</th>\n",
       "      <th>floor</th>\n",
       "      <th>transaction_real_price</th>\n",
       "      <th>transaction_date1</th>\n",
       "    </tr>\n",
       "  </thead>\n",
       "  <tbody>\n",
       "    <tr>\n",
       "      <td>0</td>\n",
       "      <td>0</td>\n",
       "      <td>7622</td>\n",
       "      <td>0</td>\n",
       "      <td>신교동</td>\n",
       "      <td>6-13</td>\n",
       "      <td>신현(101동)</td>\n",
       "      <td>신교동 6-13 신현(101동)</td>\n",
       "      <td>84.82</td>\n",
       "      <td>2002</td>\n",
       "      <td>200801</td>\n",
       "      <td>21~31</td>\n",
       "      <td>2</td>\n",
       "      <td>37500</td>\n",
       "      <td>3</td>\n",
       "    </tr>\n",
       "    <tr>\n",
       "      <td>1</td>\n",
       "      <td>1</td>\n",
       "      <td>5399</td>\n",
       "      <td>0</td>\n",
       "      <td>필운동</td>\n",
       "      <td>142</td>\n",
       "      <td>사직파크맨션</td>\n",
       "      <td>필운동 142 사직파크맨션</td>\n",
       "      <td>99.17</td>\n",
       "      <td>1973</td>\n",
       "      <td>200801</td>\n",
       "      <td>1~10</td>\n",
       "      <td>6</td>\n",
       "      <td>20000</td>\n",
       "      <td>1</td>\n",
       "    </tr>\n",
       "    <tr>\n",
       "      <td>2</td>\n",
       "      <td>2</td>\n",
       "      <td>3578</td>\n",
       "      <td>0</td>\n",
       "      <td>필운동</td>\n",
       "      <td>174-1</td>\n",
       "      <td>두레엘리시안</td>\n",
       "      <td>필운동 174-1 두레엘리시안</td>\n",
       "      <td>84.74</td>\n",
       "      <td>2007</td>\n",
       "      <td>200801</td>\n",
       "      <td>1~10</td>\n",
       "      <td>6</td>\n",
       "      <td>38500</td>\n",
       "      <td>1</td>\n",
       "    </tr>\n",
       "    <tr>\n",
       "      <td>3</td>\n",
       "      <td>3</td>\n",
       "      <td>10957</td>\n",
       "      <td>0</td>\n",
       "      <td>내수동</td>\n",
       "      <td>95</td>\n",
       "      <td>파크팰리스</td>\n",
       "      <td>내수동 95 파크팰리스</td>\n",
       "      <td>146.39</td>\n",
       "      <td>2003</td>\n",
       "      <td>200801</td>\n",
       "      <td>11~20</td>\n",
       "      <td>15</td>\n",
       "      <td>118000</td>\n",
       "      <td>2</td>\n",
       "    </tr>\n",
       "    <tr>\n",
       "      <td>4</td>\n",
       "      <td>4</td>\n",
       "      <td>10639</td>\n",
       "      <td>0</td>\n",
       "      <td>내수동</td>\n",
       "      <td>110-15</td>\n",
       "      <td>킹스매너</td>\n",
       "      <td>내수동 110-15 킹스매너</td>\n",
       "      <td>194.43</td>\n",
       "      <td>2004</td>\n",
       "      <td>200801</td>\n",
       "      <td>21~31</td>\n",
       "      <td>3</td>\n",
       "      <td>120000</td>\n",
       "      <td>3</td>\n",
       "    </tr>\n",
       "  </tbody>\n",
       "</table>\n",
       "</div>"
      ],
      "text/plain": [
       "   transaction_id  apartment_id  city dong   jibun       apt  \\\n",
       "0               0          7622     0  신교동    6-13  신현(101동)   \n",
       "1               1          5399     0  필운동     142    사직파크맨션   \n",
       "2               2          3578     0  필운동   174-1    두레엘리시안   \n",
       "3               3         10957     0  내수동      95     파크팰리스   \n",
       "4               4         10639     0  내수동  110-15      킹스매너   \n",
       "\n",
       "             addr_kr  exclusive_use_area  year_of_completion  \\\n",
       "0  신교동 6-13 신현(101동)               84.82                2002   \n",
       "1     필운동 142 사직파크맨션               99.17                1973   \n",
       "2   필운동 174-1 두레엘리시안               84.74                2007   \n",
       "3       내수동 95 파크팰리스              146.39                2003   \n",
       "4    내수동 110-15 킹스매너              194.43                2004   \n",
       "\n",
       "   transaction_year_month transaction_date  floor  transaction_real_price  \\\n",
       "0                  200801            21~31      2                   37500   \n",
       "1                  200801             1~10      6                   20000   \n",
       "2                  200801             1~10      6                   38500   \n",
       "3                  200801            11~20     15                  118000   \n",
       "4                  200801            21~31      3                  120000   \n",
       "\n",
       "  transaction_date1  \n",
       "0                 3  \n",
       "1                 1  \n",
       "2                 1  \n",
       "3                 2  \n",
       "4                 3  "
      ]
     },
     "execution_count": 17,
     "metadata": {},
     "output_type": "execute_result"
    }
   ],
   "source": [
    "train.head()"
   ]
  },
  {
   "cell_type": "code",
   "execution_count": 18,
   "metadata": {
    "scrolled": true
   },
   "outputs": [],
   "source": [
    "train=train.drop('transaction_date',axis=1)"
   ]
  },
  {
   "cell_type": "code",
   "execution_count": 19,
   "metadata": {},
   "outputs": [],
   "source": [
    "train['exclusive_use_area']=train['exclusive_use_area'].round()"
   ]
  },
  {
   "cell_type": "code",
   "execution_count": 20,
   "metadata": {},
   "outputs": [
    {
     "data": {
      "text/html": [
       "<div>\n",
       "<style scoped>\n",
       "    .dataframe tbody tr th:only-of-type {\n",
       "        vertical-align: middle;\n",
       "    }\n",
       "\n",
       "    .dataframe tbody tr th {\n",
       "        vertical-align: top;\n",
       "    }\n",
       "\n",
       "    .dataframe thead th {\n",
       "        text-align: right;\n",
       "    }\n",
       "</style>\n",
       "<table border=\"1\" class=\"dataframe\">\n",
       "  <thead>\n",
       "    <tr style=\"text-align: right;\">\n",
       "      <th></th>\n",
       "      <th>transaction_id</th>\n",
       "      <th>apartment_id</th>\n",
       "      <th>city</th>\n",
       "      <th>dong</th>\n",
       "      <th>jibun</th>\n",
       "      <th>apt</th>\n",
       "      <th>addr_kr</th>\n",
       "      <th>exclusive_use_area</th>\n",
       "      <th>year_of_completion</th>\n",
       "      <th>transaction_year_month</th>\n",
       "      <th>floor</th>\n",
       "      <th>transaction_real_price</th>\n",
       "      <th>transaction_date1</th>\n",
       "    </tr>\n",
       "  </thead>\n",
       "  <tbody>\n",
       "    <tr>\n",
       "      <td>0</td>\n",
       "      <td>0</td>\n",
       "      <td>7622</td>\n",
       "      <td>0</td>\n",
       "      <td>신교동</td>\n",
       "      <td>6-13</td>\n",
       "      <td>신현(101동)</td>\n",
       "      <td>신교동 6-13 신현(101동)</td>\n",
       "      <td>85.0</td>\n",
       "      <td>2002</td>\n",
       "      <td>200801</td>\n",
       "      <td>2</td>\n",
       "      <td>37500</td>\n",
       "      <td>3</td>\n",
       "    </tr>\n",
       "    <tr>\n",
       "      <td>1</td>\n",
       "      <td>1</td>\n",
       "      <td>5399</td>\n",
       "      <td>0</td>\n",
       "      <td>필운동</td>\n",
       "      <td>142</td>\n",
       "      <td>사직파크맨션</td>\n",
       "      <td>필운동 142 사직파크맨션</td>\n",
       "      <td>99.0</td>\n",
       "      <td>1973</td>\n",
       "      <td>200801</td>\n",
       "      <td>6</td>\n",
       "      <td>20000</td>\n",
       "      <td>1</td>\n",
       "    </tr>\n",
       "    <tr>\n",
       "      <td>2</td>\n",
       "      <td>2</td>\n",
       "      <td>3578</td>\n",
       "      <td>0</td>\n",
       "      <td>필운동</td>\n",
       "      <td>174-1</td>\n",
       "      <td>두레엘리시안</td>\n",
       "      <td>필운동 174-1 두레엘리시안</td>\n",
       "      <td>85.0</td>\n",
       "      <td>2007</td>\n",
       "      <td>200801</td>\n",
       "      <td>6</td>\n",
       "      <td>38500</td>\n",
       "      <td>1</td>\n",
       "    </tr>\n",
       "    <tr>\n",
       "      <td>3</td>\n",
       "      <td>3</td>\n",
       "      <td>10957</td>\n",
       "      <td>0</td>\n",
       "      <td>내수동</td>\n",
       "      <td>95</td>\n",
       "      <td>파크팰리스</td>\n",
       "      <td>내수동 95 파크팰리스</td>\n",
       "      <td>146.0</td>\n",
       "      <td>2003</td>\n",
       "      <td>200801</td>\n",
       "      <td>15</td>\n",
       "      <td>118000</td>\n",
       "      <td>2</td>\n",
       "    </tr>\n",
       "    <tr>\n",
       "      <td>4</td>\n",
       "      <td>4</td>\n",
       "      <td>10639</td>\n",
       "      <td>0</td>\n",
       "      <td>내수동</td>\n",
       "      <td>110-15</td>\n",
       "      <td>킹스매너</td>\n",
       "      <td>내수동 110-15 킹스매너</td>\n",
       "      <td>194.0</td>\n",
       "      <td>2004</td>\n",
       "      <td>200801</td>\n",
       "      <td>3</td>\n",
       "      <td>120000</td>\n",
       "      <td>3</td>\n",
       "    </tr>\n",
       "  </tbody>\n",
       "</table>\n",
       "</div>"
      ],
      "text/plain": [
       "   transaction_id  apartment_id  city dong   jibun       apt  \\\n",
       "0               0          7622     0  신교동    6-13  신현(101동)   \n",
       "1               1          5399     0  필운동     142    사직파크맨션   \n",
       "2               2          3578     0  필운동   174-1    두레엘리시안   \n",
       "3               3         10957     0  내수동      95     파크팰리스   \n",
       "4               4         10639     0  내수동  110-15      킹스매너   \n",
       "\n",
       "             addr_kr  exclusive_use_area  year_of_completion  \\\n",
       "0  신교동 6-13 신현(101동)                85.0                2002   \n",
       "1     필운동 142 사직파크맨션                99.0                1973   \n",
       "2   필운동 174-1 두레엘리시안                85.0                2007   \n",
       "3       내수동 95 파크팰리스               146.0                2003   \n",
       "4    내수동 110-15 킹스매너               194.0                2004   \n",
       "\n",
       "   transaction_year_month  floor  transaction_real_price transaction_date1  \n",
       "0                  200801      2                   37500                 3  \n",
       "1                  200801      6                   20000                 1  \n",
       "2                  200801      6                   38500                 1  \n",
       "3                  200801     15                  118000                 2  \n",
       "4                  200801      3                  120000                 3  "
      ]
     },
     "execution_count": 20,
     "metadata": {},
     "output_type": "execute_result"
    }
   ],
   "source": [
    "train.head()"
   ]
  },
  {
   "cell_type": "code",
   "execution_count": 21,
   "metadata": {
    "scrolled": true
   },
   "outputs": [
    {
     "data": {
      "text/plain": [
       "array([ 2,  6, 15,  3, 16,  7,  1,  5,  4, 12,  8, 14, 11, 13, 21, 18, 20,\n",
       "        9, 10, 17, 23, 19, 28, 22, 25, 29, 30, 26, -1, 27, 24, 32, 33, 31,\n",
       "       35, 37, 34, 36, 38, 39, 42, 40, 56, 47, 53, -2, 41, 46, 54, 45, 44,\n",
       "       43, 48, 50, 51, 49, 57, 52, -3, -4, 60, 67, 63, 65, 64, 59, 68, 66,\n",
       "       58, 62, 55, 69, 61, 70, 75, 76, 74, 73, 79, 72, 80, 78, 77, 71])"
      ]
     },
     "execution_count": 21,
     "metadata": {},
     "output_type": "execute_result"
    }
   ],
   "source": [
    "train['floor'].unique()"
   ]
  },
  {
   "cell_type": "markdown",
   "metadata": {},
   "source": [
    "### 층을 구간화 "
   ]
  },
  {
   "cell_type": "code",
   "execution_count": 30,
   "metadata": {},
   "outputs": [
    {
     "ename": "TypeError",
     "evalue": "Cannot compare a Categorical for op __lt__ with a scalar, which is not a category.",
     "output_type": "error",
     "traceback": [
      "\u001b[0;31m---------------------------------------------------------------------------\u001b[0m",
      "\u001b[0;31mTypeError\u001b[0m                                 Traceback (most recent call last)",
      "\u001b[0;32m<ipython-input-30-99102658b733>\u001b[0m in \u001b[0;36m<module>\u001b[0;34m\u001b[0m\n\u001b[0;32m----> 1\u001b[0;31m \u001b[0mtrain\u001b[0m\u001b[0;34m.\u001b[0m\u001b[0mloc\u001b[0m\u001b[0;34m[\u001b[0m\u001b[0mtrain\u001b[0m\u001b[0;34m.\u001b[0m\u001b[0mfloor\u001b[0m\u001b[0;34m<\u001b[0m\u001b[0;36m0\u001b[0m\u001b[0;34m]\u001b[0m\u001b[0;34m=\u001b[0m\u001b[0;36m0\u001b[0m\u001b[0;34m\u001b[0m\u001b[0;34m\u001b[0m\u001b[0m\n\u001b[0m\u001b[1;32m      2\u001b[0m \u001b[0;31m#지하에 있는것들을 전부 0으로 변경\u001b[0m\u001b[0;34m\u001b[0m\u001b[0;34m\u001b[0m\u001b[0;34m\u001b[0m\u001b[0m\n",
      "\u001b[0;32m~/opt/anaconda3/lib/python3.7/site-packages/pandas/core/ops/__init__.py\u001b[0m in \u001b[0;36mwrapper\u001b[0;34m(self, other, axis)\u001b[0m\n\u001b[1;32m   1145\u001b[0m             \u001b[0;31m# Dispatch to Categorical implementation; pd.CategoricalIndex\u001b[0m\u001b[0;34m\u001b[0m\u001b[0;34m\u001b[0m\u001b[0;34m\u001b[0m\u001b[0m\n\u001b[1;32m   1146\u001b[0m             \u001b[0;31m# behavior is non-canonical GH#19513\u001b[0m\u001b[0;34m\u001b[0m\u001b[0;34m\u001b[0m\u001b[0;34m\u001b[0m\u001b[0m\n\u001b[0;32m-> 1147\u001b[0;31m             \u001b[0mres_values\u001b[0m \u001b[0;34m=\u001b[0m \u001b[0mdispatch_to_index_op\u001b[0m\u001b[0;34m(\u001b[0m\u001b[0mop\u001b[0m\u001b[0;34m,\u001b[0m \u001b[0mself\u001b[0m\u001b[0;34m,\u001b[0m \u001b[0mother\u001b[0m\u001b[0;34m,\u001b[0m \u001b[0mpd\u001b[0m\u001b[0;34m.\u001b[0m\u001b[0mCategorical\u001b[0m\u001b[0;34m)\u001b[0m\u001b[0;34m\u001b[0m\u001b[0;34m\u001b[0m\u001b[0m\n\u001b[0m\u001b[1;32m   1148\u001b[0m             \u001b[0;32mreturn\u001b[0m \u001b[0mself\u001b[0m\u001b[0;34m.\u001b[0m\u001b[0m_constructor\u001b[0m\u001b[0;34m(\u001b[0m\u001b[0mres_values\u001b[0m\u001b[0;34m,\u001b[0m \u001b[0mindex\u001b[0m\u001b[0;34m=\u001b[0m\u001b[0mself\u001b[0m\u001b[0;34m.\u001b[0m\u001b[0mindex\u001b[0m\u001b[0;34m,\u001b[0m \u001b[0mname\u001b[0m\u001b[0;34m=\u001b[0m\u001b[0mres_name\u001b[0m\u001b[0;34m)\u001b[0m\u001b[0;34m\u001b[0m\u001b[0;34m\u001b[0m\u001b[0m\n\u001b[1;32m   1149\u001b[0m \u001b[0;34m\u001b[0m\u001b[0m\n",
      "\u001b[0;32m~/opt/anaconda3/lib/python3.7/site-packages/pandas/core/ops/__init__.py\u001b[0m in \u001b[0;36mdispatch_to_index_op\u001b[0;34m(op, left, right, index_class)\u001b[0m\n\u001b[1;32m    628\u001b[0m         \u001b[0mleft_idx\u001b[0m \u001b[0;34m=\u001b[0m \u001b[0mleft_idx\u001b[0m\u001b[0;34m.\u001b[0m\u001b[0m_shallow_copy\u001b[0m\u001b[0;34m(\u001b[0m\u001b[0mfreq\u001b[0m\u001b[0;34m=\u001b[0m\u001b[0;32mNone\u001b[0m\u001b[0;34m)\u001b[0m\u001b[0;34m\u001b[0m\u001b[0;34m\u001b[0m\u001b[0m\n\u001b[1;32m    629\u001b[0m     \u001b[0;32mtry\u001b[0m\u001b[0;34m:\u001b[0m\u001b[0;34m\u001b[0m\u001b[0;34m\u001b[0m\u001b[0m\n\u001b[0;32m--> 630\u001b[0;31m         \u001b[0mresult\u001b[0m \u001b[0;34m=\u001b[0m \u001b[0mop\u001b[0m\u001b[0;34m(\u001b[0m\u001b[0mleft_idx\u001b[0m\u001b[0;34m,\u001b[0m \u001b[0mright\u001b[0m\u001b[0;34m)\u001b[0m\u001b[0;34m\u001b[0m\u001b[0;34m\u001b[0m\u001b[0m\n\u001b[0m\u001b[1;32m    631\u001b[0m     \u001b[0;32mexcept\u001b[0m \u001b[0mNullFrequencyError\u001b[0m\u001b[0;34m:\u001b[0m\u001b[0;34m\u001b[0m\u001b[0;34m\u001b[0m\u001b[0m\n\u001b[1;32m    632\u001b[0m         \u001b[0;31m# DatetimeIndex and TimedeltaIndex with freq == None raise ValueError\u001b[0m\u001b[0;34m\u001b[0m\u001b[0;34m\u001b[0m\u001b[0;34m\u001b[0m\u001b[0m\n",
      "\u001b[0;32m~/opt/anaconda3/lib/python3.7/site-packages/pandas/core/arrays/categorical.py\u001b[0m in \u001b[0;36mf\u001b[0;34m(self, other)\u001b[0m\n\u001b[1;32m    140\u001b[0m                         \u001b[0;34m\"scalar, which is not a category.\"\u001b[0m\u001b[0;34m\u001b[0m\u001b[0;34m\u001b[0m\u001b[0m\n\u001b[1;32m    141\u001b[0m                     )\n\u001b[0;32m--> 142\u001b[0;31m                     \u001b[0;32mraise\u001b[0m \u001b[0mTypeError\u001b[0m\u001b[0;34m(\u001b[0m\u001b[0mmsg\u001b[0m\u001b[0;34m.\u001b[0m\u001b[0mformat\u001b[0m\u001b[0;34m(\u001b[0m\u001b[0mop\u001b[0m\u001b[0;34m=\u001b[0m\u001b[0mop\u001b[0m\u001b[0;34m)\u001b[0m\u001b[0;34m)\u001b[0m\u001b[0;34m\u001b[0m\u001b[0;34m\u001b[0m\u001b[0m\n\u001b[0m\u001b[1;32m    143\u001b[0m         \u001b[0;32melse\u001b[0m\u001b[0;34m:\u001b[0m\u001b[0;34m\u001b[0m\u001b[0;34m\u001b[0m\u001b[0m\n\u001b[1;32m    144\u001b[0m \u001b[0;34m\u001b[0m\u001b[0m\n",
      "\u001b[0;31mTypeError\u001b[0m: Cannot compare a Categorical for op __lt__ with a scalar, which is not a category."
     ]
    }
   ],
   "source": [
    "train.loc[train.floor<0]=0\n",
    "#지하에 있는것들을 전부 0으로 변경 "
   ]
  },
  {
   "cell_type": "code",
   "execution_count": 31,
   "metadata": {
    "scrolled": true
   },
   "outputs": [
    {
     "data": {
      "text/plain": [
       "[1, 2, 3, 4, 5, 6, 7, 8]\n",
       "Categories (8, object): [1 < 2 < 3 < 4 < 5 < 6 < 7 < 8]"
      ]
     },
     "execution_count": 31,
     "metadata": {},
     "output_type": "execute_result"
    }
   ],
   "source": [
    "train['floor'].unique()"
   ]
  },
  {
   "cell_type": "code",
   "execution_count": 24,
   "metadata": {},
   "outputs": [],
   "source": [
    "b=train['floor']"
   ]
  },
  {
   "cell_type": "code",
   "execution_count": 25,
   "metadata": {
    "scrolled": false
   },
   "outputs": [
    {
     "data": {
      "text/plain": [
       "0          1\n",
       "1          1\n",
       "2          1\n",
       "3          2\n",
       "4          1\n",
       "          ..\n",
       "1216548    1\n",
       "1216549    1\n",
       "1216550    1\n",
       "1216551    1\n",
       "1216552    2\n",
       "Name: floor, Length: 1216553, dtype: category\n",
       "Categories (8, object): [1 < 2 < 3 < 4 < 5 < 6 < 7 < 8]"
      ]
     },
     "execution_count": 25,
     "metadata": {},
     "output_type": "execute_result"
    }
   ],
   "source": [
    "bins=[-1, 11, 21, 31, 41, 51, 61, 71, 81]\n",
    "labels=['1','2','3','4','5','6','7','8']\n",
    "a=pd.cut(b,bins,labels=labels)\n",
    "a\n",
    "#-1~11까지가 1 "
   ]
  },
  {
   "cell_type": "code",
   "execution_count": 26,
   "metadata": {
    "scrolled": true
   },
   "outputs": [
    {
     "data": {
      "text/plain": [
       "[1, 2, 3, 4, 5, 6, 7, 8]\n",
       "Categories (8, object): [1 < 2 < 3 < 4 < 5 < 6 < 7 < 8]"
      ]
     },
     "execution_count": 26,
     "metadata": {},
     "output_type": "execute_result"
    }
   ],
   "source": [
    "a.unique()"
   ]
  },
  {
   "cell_type": "code",
   "execution_count": 27,
   "metadata": {},
   "outputs": [],
   "source": [
    "train=train.drop('floor',axis=1)"
   ]
  },
  {
   "cell_type": "code",
   "execution_count": 28,
   "metadata": {},
   "outputs": [],
   "source": [
    "train['floor'] = a"
   ]
  },
  {
   "cell_type": "code",
   "execution_count": 29,
   "metadata": {
    "scrolled": true
   },
   "outputs": [
    {
     "data": {
      "text/html": [
       "<div>\n",
       "<style scoped>\n",
       "    .dataframe tbody tr th:only-of-type {\n",
       "        vertical-align: middle;\n",
       "    }\n",
       "\n",
       "    .dataframe tbody tr th {\n",
       "        vertical-align: top;\n",
       "    }\n",
       "\n",
       "    .dataframe thead th {\n",
       "        text-align: right;\n",
       "    }\n",
       "</style>\n",
       "<table border=\"1\" class=\"dataframe\">\n",
       "  <thead>\n",
       "    <tr style=\"text-align: right;\">\n",
       "      <th></th>\n",
       "      <th>transaction_id</th>\n",
       "      <th>apartment_id</th>\n",
       "      <th>city</th>\n",
       "      <th>dong</th>\n",
       "      <th>jibun</th>\n",
       "      <th>apt</th>\n",
       "      <th>addr_kr</th>\n",
       "      <th>exclusive_use_area</th>\n",
       "      <th>year_of_completion</th>\n",
       "      <th>transaction_year_month</th>\n",
       "      <th>transaction_real_price</th>\n",
       "      <th>transaction_date1</th>\n",
       "      <th>floor</th>\n",
       "    </tr>\n",
       "  </thead>\n",
       "  <tbody>\n",
       "    <tr>\n",
       "      <td>0</td>\n",
       "      <td>0</td>\n",
       "      <td>7622</td>\n",
       "      <td>0</td>\n",
       "      <td>신교동</td>\n",
       "      <td>6-13</td>\n",
       "      <td>신현(101동)</td>\n",
       "      <td>신교동 6-13 신현(101동)</td>\n",
       "      <td>85.0</td>\n",
       "      <td>2002</td>\n",
       "      <td>200801</td>\n",
       "      <td>37500</td>\n",
       "      <td>3</td>\n",
       "      <td>1</td>\n",
       "    </tr>\n",
       "    <tr>\n",
       "      <td>1</td>\n",
       "      <td>1</td>\n",
       "      <td>5399</td>\n",
       "      <td>0</td>\n",
       "      <td>필운동</td>\n",
       "      <td>142</td>\n",
       "      <td>사직파크맨션</td>\n",
       "      <td>필운동 142 사직파크맨션</td>\n",
       "      <td>99.0</td>\n",
       "      <td>1973</td>\n",
       "      <td>200801</td>\n",
       "      <td>20000</td>\n",
       "      <td>1</td>\n",
       "      <td>1</td>\n",
       "    </tr>\n",
       "    <tr>\n",
       "      <td>2</td>\n",
       "      <td>2</td>\n",
       "      <td>3578</td>\n",
       "      <td>0</td>\n",
       "      <td>필운동</td>\n",
       "      <td>174-1</td>\n",
       "      <td>두레엘리시안</td>\n",
       "      <td>필운동 174-1 두레엘리시안</td>\n",
       "      <td>85.0</td>\n",
       "      <td>2007</td>\n",
       "      <td>200801</td>\n",
       "      <td>38500</td>\n",
       "      <td>1</td>\n",
       "      <td>1</td>\n",
       "    </tr>\n",
       "    <tr>\n",
       "      <td>3</td>\n",
       "      <td>3</td>\n",
       "      <td>10957</td>\n",
       "      <td>0</td>\n",
       "      <td>내수동</td>\n",
       "      <td>95</td>\n",
       "      <td>파크팰리스</td>\n",
       "      <td>내수동 95 파크팰리스</td>\n",
       "      <td>146.0</td>\n",
       "      <td>2003</td>\n",
       "      <td>200801</td>\n",
       "      <td>118000</td>\n",
       "      <td>2</td>\n",
       "      <td>2</td>\n",
       "    </tr>\n",
       "    <tr>\n",
       "      <td>4</td>\n",
       "      <td>4</td>\n",
       "      <td>10639</td>\n",
       "      <td>0</td>\n",
       "      <td>내수동</td>\n",
       "      <td>110-15</td>\n",
       "      <td>킹스매너</td>\n",
       "      <td>내수동 110-15 킹스매너</td>\n",
       "      <td>194.0</td>\n",
       "      <td>2004</td>\n",
       "      <td>200801</td>\n",
       "      <td>120000</td>\n",
       "      <td>3</td>\n",
       "      <td>1</td>\n",
       "    </tr>\n",
       "  </tbody>\n",
       "</table>\n",
       "</div>"
      ],
      "text/plain": [
       "   transaction_id  apartment_id  city dong   jibun       apt  \\\n",
       "0               0          7622     0  신교동    6-13  신현(101동)   \n",
       "1               1          5399     0  필운동     142    사직파크맨션   \n",
       "2               2          3578     0  필운동   174-1    두레엘리시안   \n",
       "3               3         10957     0  내수동      95     파크팰리스   \n",
       "4               4         10639     0  내수동  110-15      킹스매너   \n",
       "\n",
       "             addr_kr  exclusive_use_area  year_of_completion  \\\n",
       "0  신교동 6-13 신현(101동)                85.0                2002   \n",
       "1     필운동 142 사직파크맨션                99.0                1973   \n",
       "2   필운동 174-1 두레엘리시안                85.0                2007   \n",
       "3       내수동 95 파크팰리스               146.0                2003   \n",
       "4    내수동 110-15 킹스매너               194.0                2004   \n",
       "\n",
       "   transaction_year_month  transaction_real_price transaction_date1 floor  \n",
       "0                  200801                   37500                 3     1  \n",
       "1                  200801                   20000                 1     1  \n",
       "2                  200801                   38500                 1     1  \n",
       "3                  200801                  118000                 2     2  \n",
       "4                  200801                  120000                 3     1  "
      ]
     },
     "execution_count": 29,
     "metadata": {},
     "output_type": "execute_result"
    }
   ],
   "source": [
    "train.head()"
   ]
  },
  {
   "cell_type": "markdown",
   "metadata": {},
   "source": [
    "### 거래발생시기를 년도로 구간화"
   ]
  },
  {
   "cell_type": "code",
   "execution_count": 32,
   "metadata": {
    "scrolled": false
   },
   "outputs": [
    {
     "data": {
      "text/plain": [
       "array([200801, 200802, 200803, 200804, 200805, 200806, 200807, 200808,\n",
       "       200809, 200810, 200811, 200812, 200901, 200902, 200903, 200904,\n",
       "       200905, 200906, 200907, 200908, 200909, 200910, 200911, 200912,\n",
       "       201001, 201002, 201003, 201004, 201005, 201006, 201007, 201008,\n",
       "       201009, 201010, 201011, 201012, 201101, 201102, 201103, 201104,\n",
       "       201105, 201106, 201107, 201108, 201109,      0, 201110, 201111,\n",
       "       201112, 201201, 201202, 201203, 201204, 201205, 201206, 201207,\n",
       "       201208, 201209, 201210, 201211, 201212, 201301, 201302, 201303,\n",
       "       201304, 201305, 201306, 201307, 201308, 201309, 201310, 201311,\n",
       "       201312, 201401, 201402, 201403, 201404, 201405, 201406, 201407,\n",
       "       201408, 201409, 201410, 201411, 201412, 201501, 201502, 201503,\n",
       "       201504, 201505, 201506, 201507, 201508, 201509, 201510, 201511,\n",
       "       201512, 201601, 201602, 201603, 201604, 201605, 201606, 201607,\n",
       "       201608, 201609, 201610, 201611, 201612, 201701, 201702, 201703,\n",
       "       201704, 201705, 201706, 201707, 201708, 201709, 201710, 201711])"
      ]
     },
     "execution_count": 32,
     "metadata": {},
     "output_type": "execute_result"
    }
   ],
   "source": [
    "train['transaction_year_month'].unique()"
   ]
  },
  {
   "cell_type": "code",
   "execution_count": 33,
   "metadata": {},
   "outputs": [
    {
     "data": {
      "text/plain": [
       "168"
      ]
     },
     "execution_count": 33,
     "metadata": {},
     "output_type": "execute_result"
    }
   ],
   "source": [
    "sum(train['transaction_year_month']==0)"
   ]
  },
  {
   "cell_type": "code",
   "execution_count": 34,
   "metadata": {
    "scrolled": true
   },
   "outputs": [
    {
     "data": {
      "text/plain": [
       "0          08\n",
       "1          08\n",
       "2          08\n",
       "3          08\n",
       "4          08\n",
       "           ..\n",
       "1216548    17\n",
       "1216549    17\n",
       "1216550    17\n",
       "1216551    17\n",
       "1216552    17\n",
       "Name: transaction_year_month, Length: 1216553, dtype: category\n",
       "Categories (11, object): [0 < 08 < 09 < 10 ... 14 < 15 < 16 < 17]"
      ]
     },
     "execution_count": 34,
     "metadata": {},
     "output_type": "execute_result"
    }
   ],
   "source": [
    "bins=[-1,200800, 200901, 201001, 201101, 201201, 201301, 201401, 201501, 201601,201701,201801]\n",
    "labels=['0','08','09','10','11','12','13','14','15','16','17']\n",
    "b=pd.cut(train['transaction_year_month'],bins,labels=labels)\n",
    "b\n",
    "#-1~11까지가 1 \n",
    "#transaction_year_month 컬럼에서 0이라는 데이터가 존재하는데 이것들은 전부 0으로 "
   ]
  },
  {
   "cell_type": "code",
   "execution_count": 35,
   "metadata": {},
   "outputs": [
    {
     "data": {
      "text/plain": [
       "0"
      ]
     },
     "execution_count": 35,
     "metadata": {},
     "output_type": "execute_result"
    }
   ],
   "source": [
    "b.isnull().sum()"
   ]
  },
  {
   "cell_type": "code",
   "execution_count": 36,
   "metadata": {},
   "outputs": [],
   "source": [
    "train['transaction_year_month']=b"
   ]
  },
  {
   "cell_type": "code",
   "execution_count": 37,
   "metadata": {},
   "outputs": [
    {
     "data": {
      "text/html": [
       "<div>\n",
       "<style scoped>\n",
       "    .dataframe tbody tr th:only-of-type {\n",
       "        vertical-align: middle;\n",
       "    }\n",
       "\n",
       "    .dataframe tbody tr th {\n",
       "        vertical-align: top;\n",
       "    }\n",
       "\n",
       "    .dataframe thead th {\n",
       "        text-align: right;\n",
       "    }\n",
       "</style>\n",
       "<table border=\"1\" class=\"dataframe\">\n",
       "  <thead>\n",
       "    <tr style=\"text-align: right;\">\n",
       "      <th></th>\n",
       "      <th>transaction_year_month</th>\n",
       "      <th>transaction_real_price</th>\n",
       "    </tr>\n",
       "  </thead>\n",
       "  <tbody>\n",
       "    <tr>\n",
       "      <td>0</td>\n",
       "      <td>08</td>\n",
       "      <td>37500</td>\n",
       "    </tr>\n",
       "    <tr>\n",
       "      <td>1</td>\n",
       "      <td>08</td>\n",
       "      <td>20000</td>\n",
       "    </tr>\n",
       "    <tr>\n",
       "      <td>2</td>\n",
       "      <td>08</td>\n",
       "      <td>38500</td>\n",
       "    </tr>\n",
       "    <tr>\n",
       "      <td>3</td>\n",
       "      <td>08</td>\n",
       "      <td>118000</td>\n",
       "    </tr>\n",
       "    <tr>\n",
       "      <td>4</td>\n",
       "      <td>08</td>\n",
       "      <td>120000</td>\n",
       "    </tr>\n",
       "    <tr>\n",
       "      <td>...</td>\n",
       "      <td>...</td>\n",
       "      <td>...</td>\n",
       "    </tr>\n",
       "    <tr>\n",
       "      <td>1216548</td>\n",
       "      <td>17</td>\n",
       "      <td>22000</td>\n",
       "    </tr>\n",
       "    <tr>\n",
       "      <td>1216549</td>\n",
       "      <td>17</td>\n",
       "      <td>30750</td>\n",
       "    </tr>\n",
       "    <tr>\n",
       "      <td>1216550</td>\n",
       "      <td>17</td>\n",
       "      <td>29500</td>\n",
       "    </tr>\n",
       "    <tr>\n",
       "      <td>1216551</td>\n",
       "      <td>17</td>\n",
       "      <td>26700</td>\n",
       "    </tr>\n",
       "    <tr>\n",
       "      <td>1216552</td>\n",
       "      <td>17</td>\n",
       "      <td>28800</td>\n",
       "    </tr>\n",
       "  </tbody>\n",
       "</table>\n",
       "<p>1216553 rows × 2 columns</p>\n",
       "</div>"
      ],
      "text/plain": [
       "        transaction_year_month  transaction_real_price\n",
       "0                           08                   37500\n",
       "1                           08                   20000\n",
       "2                           08                   38500\n",
       "3                           08                  118000\n",
       "4                           08                  120000\n",
       "...                        ...                     ...\n",
       "1216548                     17                   22000\n",
       "1216549                     17                   30750\n",
       "1216550                     17                   29500\n",
       "1216551                     17                   26700\n",
       "1216552                     17                   28800\n",
       "\n",
       "[1216553 rows x 2 columns]"
      ]
     },
     "execution_count": 37,
     "metadata": {},
     "output_type": "execute_result"
    }
   ],
   "source": [
    "train[['transaction_year_month','transaction_real_price']]"
   ]
  },
  {
   "cell_type": "code",
   "execution_count": 38,
   "metadata": {
    "scrolled": false
   },
   "outputs": [
    {
     "data": {
      "text/html": [
       "<div>\n",
       "<style scoped>\n",
       "    .dataframe tbody tr th:only-of-type {\n",
       "        vertical-align: middle;\n",
       "    }\n",
       "\n",
       "    .dataframe tbody tr th {\n",
       "        vertical-align: top;\n",
       "    }\n",
       "\n",
       "    .dataframe thead th {\n",
       "        text-align: right;\n",
       "    }\n",
       "</style>\n",
       "<table border=\"1\" class=\"dataframe\">\n",
       "  <thead>\n",
       "    <tr style=\"text-align: right;\">\n",
       "      <th></th>\n",
       "      <th>transaction_id</th>\n",
       "      <th>apartment_id</th>\n",
       "      <th>city</th>\n",
       "      <th>dong</th>\n",
       "      <th>jibun</th>\n",
       "      <th>apt</th>\n",
       "      <th>addr_kr</th>\n",
       "      <th>exclusive_use_area</th>\n",
       "      <th>year_of_completion</th>\n",
       "      <th>transaction_year_month</th>\n",
       "      <th>transaction_real_price</th>\n",
       "      <th>transaction_date1</th>\n",
       "      <th>floor</th>\n",
       "    </tr>\n",
       "  </thead>\n",
       "  <tbody>\n",
       "    <tr>\n",
       "      <td>0</td>\n",
       "      <td>0</td>\n",
       "      <td>7622</td>\n",
       "      <td>0</td>\n",
       "      <td>신교동</td>\n",
       "      <td>6-13</td>\n",
       "      <td>신현(101동)</td>\n",
       "      <td>신교동 6-13 신현(101동)</td>\n",
       "      <td>85.0</td>\n",
       "      <td>2002</td>\n",
       "      <td>08</td>\n",
       "      <td>37500</td>\n",
       "      <td>3</td>\n",
       "      <td>1</td>\n",
       "    </tr>\n",
       "    <tr>\n",
       "      <td>1</td>\n",
       "      <td>1</td>\n",
       "      <td>5399</td>\n",
       "      <td>0</td>\n",
       "      <td>필운동</td>\n",
       "      <td>142</td>\n",
       "      <td>사직파크맨션</td>\n",
       "      <td>필운동 142 사직파크맨션</td>\n",
       "      <td>99.0</td>\n",
       "      <td>1973</td>\n",
       "      <td>08</td>\n",
       "      <td>20000</td>\n",
       "      <td>1</td>\n",
       "      <td>1</td>\n",
       "    </tr>\n",
       "    <tr>\n",
       "      <td>2</td>\n",
       "      <td>2</td>\n",
       "      <td>3578</td>\n",
       "      <td>0</td>\n",
       "      <td>필운동</td>\n",
       "      <td>174-1</td>\n",
       "      <td>두레엘리시안</td>\n",
       "      <td>필운동 174-1 두레엘리시안</td>\n",
       "      <td>85.0</td>\n",
       "      <td>2007</td>\n",
       "      <td>08</td>\n",
       "      <td>38500</td>\n",
       "      <td>1</td>\n",
       "      <td>1</td>\n",
       "    </tr>\n",
       "    <tr>\n",
       "      <td>3</td>\n",
       "      <td>3</td>\n",
       "      <td>10957</td>\n",
       "      <td>0</td>\n",
       "      <td>내수동</td>\n",
       "      <td>95</td>\n",
       "      <td>파크팰리스</td>\n",
       "      <td>내수동 95 파크팰리스</td>\n",
       "      <td>146.0</td>\n",
       "      <td>2003</td>\n",
       "      <td>08</td>\n",
       "      <td>118000</td>\n",
       "      <td>2</td>\n",
       "      <td>2</td>\n",
       "    </tr>\n",
       "    <tr>\n",
       "      <td>4</td>\n",
       "      <td>4</td>\n",
       "      <td>10639</td>\n",
       "      <td>0</td>\n",
       "      <td>내수동</td>\n",
       "      <td>110-15</td>\n",
       "      <td>킹스매너</td>\n",
       "      <td>내수동 110-15 킹스매너</td>\n",
       "      <td>194.0</td>\n",
       "      <td>2004</td>\n",
       "      <td>08</td>\n",
       "      <td>120000</td>\n",
       "      <td>3</td>\n",
       "      <td>1</td>\n",
       "    </tr>\n",
       "  </tbody>\n",
       "</table>\n",
       "</div>"
      ],
      "text/plain": [
       "   transaction_id  apartment_id  city dong   jibun       apt  \\\n",
       "0               0          7622     0  신교동    6-13  신현(101동)   \n",
       "1               1          5399     0  필운동     142    사직파크맨션   \n",
       "2               2          3578     0  필운동   174-1    두레엘리시안   \n",
       "3               3         10957     0  내수동      95     파크팰리스   \n",
       "4               4         10639     0  내수동  110-15      킹스매너   \n",
       "\n",
       "             addr_kr  exclusive_use_area  year_of_completion  \\\n",
       "0  신교동 6-13 신현(101동)                85.0                2002   \n",
       "1     필운동 142 사직파크맨션                99.0                1973   \n",
       "2   필운동 174-1 두레엘리시안                85.0                2007   \n",
       "3       내수동 95 파크팰리스               146.0                2003   \n",
       "4    내수동 110-15 킹스매너               194.0                2004   \n",
       "\n",
       "  transaction_year_month  transaction_real_price transaction_date1 floor  \n",
       "0                     08                   37500                 3     1  \n",
       "1                     08                   20000                 1     1  \n",
       "2                     08                   38500                 1     1  \n",
       "3                     08                  118000                 2     2  \n",
       "4                     08                  120000                 3     1  "
      ]
     },
     "execution_count": 38,
     "metadata": {},
     "output_type": "execute_result"
    }
   ],
   "source": [
    "train.head()"
   ]
  },
  {
   "cell_type": "code",
   "execution_count": 39,
   "metadata": {
    "scrolled": false
   },
   "outputs": [
    {
     "data": {
      "text/plain": [
       "transaction_id            0\n",
       "apartment_id              0\n",
       "city                      0\n",
       "dong                      0\n",
       "jibun                     0\n",
       "apt                       0\n",
       "addr_kr                   0\n",
       "exclusive_use_area        0\n",
       "year_of_completion        0\n",
       "transaction_year_month    0\n",
       "transaction_real_price    0\n",
       "transaction_date1         0\n",
       "floor                     0\n",
       "dtype: int64"
      ]
     },
     "execution_count": 39,
     "metadata": {},
     "output_type": "execute_result"
    }
   ],
   "source": [
    "train.isnull().sum()"
   ]
  },
  {
   "cell_type": "markdown",
   "metadata": {},
   "source": [
    "### 동, 지번, 아파트이름, 아파트 주소와 같은 문자열들은 범주화를 할 수 없을정도로 넓게 펴져있어서 삭제 \n",
    "#### 다음번에는 다 넣어보고 한번 해보기 \\"
   ]
  },
  {
   "cell_type": "code",
   "execution_count": 40,
   "metadata": {},
   "outputs": [],
   "source": [
    "train=train.drop('dong', axis=1)\n",
    "train=train.drop('apartment_id', axis=1)\n",
    "train=train.drop('jibun', axis=1)\n",
    "train=train.drop('apt', axis=1)\n",
    "train=train.drop('addr_kr', axis=1)"
   ]
  },
  {
   "cell_type": "code",
   "execution_count": 41,
   "metadata": {},
   "outputs": [],
   "source": [
    "train=train.drop('transaction_id', axis=1)"
   ]
  },
  {
   "cell_type": "code",
   "execution_count": 42,
   "metadata": {
    "scrolled": true
   },
   "outputs": [
    {
     "data": {
      "text/html": [
       "<div>\n",
       "<style scoped>\n",
       "    .dataframe tbody tr th:only-of-type {\n",
       "        vertical-align: middle;\n",
       "    }\n",
       "\n",
       "    .dataframe tbody tr th {\n",
       "        vertical-align: top;\n",
       "    }\n",
       "\n",
       "    .dataframe thead th {\n",
       "        text-align: right;\n",
       "    }\n",
       "</style>\n",
       "<table border=\"1\" class=\"dataframe\">\n",
       "  <thead>\n",
       "    <tr style=\"text-align: right;\">\n",
       "      <th></th>\n",
       "      <th>city</th>\n",
       "      <th>exclusive_use_area</th>\n",
       "      <th>year_of_completion</th>\n",
       "      <th>transaction_year_month</th>\n",
       "      <th>transaction_real_price</th>\n",
       "      <th>transaction_date1</th>\n",
       "      <th>floor</th>\n",
       "    </tr>\n",
       "  </thead>\n",
       "  <tbody>\n",
       "    <tr>\n",
       "      <td>0</td>\n",
       "      <td>0</td>\n",
       "      <td>85.0</td>\n",
       "      <td>2002</td>\n",
       "      <td>08</td>\n",
       "      <td>37500</td>\n",
       "      <td>3</td>\n",
       "      <td>1</td>\n",
       "    </tr>\n",
       "    <tr>\n",
       "      <td>1</td>\n",
       "      <td>0</td>\n",
       "      <td>99.0</td>\n",
       "      <td>1973</td>\n",
       "      <td>08</td>\n",
       "      <td>20000</td>\n",
       "      <td>1</td>\n",
       "      <td>1</td>\n",
       "    </tr>\n",
       "    <tr>\n",
       "      <td>2</td>\n",
       "      <td>0</td>\n",
       "      <td>85.0</td>\n",
       "      <td>2007</td>\n",
       "      <td>08</td>\n",
       "      <td>38500</td>\n",
       "      <td>1</td>\n",
       "      <td>1</td>\n",
       "    </tr>\n",
       "    <tr>\n",
       "      <td>3</td>\n",
       "      <td>0</td>\n",
       "      <td>146.0</td>\n",
       "      <td>2003</td>\n",
       "      <td>08</td>\n",
       "      <td>118000</td>\n",
       "      <td>2</td>\n",
       "      <td>2</td>\n",
       "    </tr>\n",
       "    <tr>\n",
       "      <td>4</td>\n",
       "      <td>0</td>\n",
       "      <td>194.0</td>\n",
       "      <td>2004</td>\n",
       "      <td>08</td>\n",
       "      <td>120000</td>\n",
       "      <td>3</td>\n",
       "      <td>1</td>\n",
       "    </tr>\n",
       "  </tbody>\n",
       "</table>\n",
       "</div>"
      ],
      "text/plain": [
       "   city  exclusive_use_area  year_of_completion transaction_year_month  \\\n",
       "0     0                85.0                2002                     08   \n",
       "1     0                99.0                1973                     08   \n",
       "2     0                85.0                2007                     08   \n",
       "3     0               146.0                2003                     08   \n",
       "4     0               194.0                2004                     08   \n",
       "\n",
       "   transaction_real_price transaction_date1 floor  \n",
       "0                   37500                 3     1  \n",
       "1                   20000                 1     1  \n",
       "2                   38500                 1     1  \n",
       "3                  118000                 2     2  \n",
       "4                  120000                 3     1  "
      ]
     },
     "execution_count": 42,
     "metadata": {},
     "output_type": "execute_result"
    }
   ],
   "source": [
    "train.head()\n",
    "#transaction_date도 삭제하면 좋을거같다 "
   ]
  },
  {
   "cell_type": "code",
   "execution_count": 43,
   "metadata": {
    "scrolled": true
   },
   "outputs": [
    {
     "name": "stdout",
     "output_type": "stream",
     "text": [
      "<class 'pandas.core.frame.DataFrame'>\n",
      "RangeIndex: 1216553 entries, 0 to 1216552\n",
      "Data columns (total 7 columns):\n",
      "city                      1216553 non-null int64\n",
      "exclusive_use_area        1216553 non-null float64\n",
      "year_of_completion        1216553 non-null int64\n",
      "transaction_year_month    1216553 non-null category\n",
      "transaction_real_price    1216553 non-null int64\n",
      "transaction_date1         1216553 non-null object\n",
      "floor                     1216553 non-null category\n",
      "dtypes: category(2), float64(1), int64(3), object(1)\n",
      "memory usage: 48.7+ MB\n"
     ]
    }
   ],
   "source": [
    "train.info()"
   ]
  },
  {
   "cell_type": "code",
   "execution_count": 44,
   "metadata": {},
   "outputs": [],
   "source": [
    "train['exclusive_use_area']=train['exclusive_use_area'].astype(int)\n",
    "train['transaction_year_month']=train['transaction_year_month'].astype(int)\n",
    "train['floor']=train['floor'].astype(int)"
   ]
  },
  {
   "cell_type": "code",
   "execution_count": 45,
   "metadata": {
    "scrolled": true
   },
   "outputs": [
    {
     "name": "stdout",
     "output_type": "stream",
     "text": [
      "<class 'pandas.core.frame.DataFrame'>\n",
      "RangeIndex: 1216553 entries, 0 to 1216552\n",
      "Data columns (total 7 columns):\n",
      "city                      1216553 non-null int64\n",
      "exclusive_use_area        1216553 non-null int64\n",
      "year_of_completion        1216553 non-null int64\n",
      "transaction_year_month    1216553 non-null int64\n",
      "transaction_real_price    1216553 non-null int64\n",
      "transaction_date1         1216553 non-null object\n",
      "floor                     1216553 non-null int64\n",
      "dtypes: int64(6), object(1)\n",
      "memory usage: 65.0+ MB\n"
     ]
    }
   ],
   "source": [
    "train.info()"
   ]
  },
  {
   "cell_type": "code",
   "execution_count": 46,
   "metadata": {},
   "outputs": [],
   "source": [
    "train['transaction_date1']=train['transaction_date1'].astype(int)"
   ]
  },
  {
   "cell_type": "code",
   "execution_count": 47,
   "metadata": {
    "scrolled": false
   },
   "outputs": [
    {
     "name": "stdout",
     "output_type": "stream",
     "text": [
      "<class 'pandas.core.frame.DataFrame'>\n",
      "RangeIndex: 1216553 entries, 0 to 1216552\n",
      "Data columns (total 7 columns):\n",
      "city                      1216553 non-null int64\n",
      "exclusive_use_area        1216553 non-null int64\n",
      "year_of_completion        1216553 non-null int64\n",
      "transaction_year_month    1216553 non-null int64\n",
      "transaction_real_price    1216553 non-null int64\n",
      "transaction_date1         1216553 non-null int64\n",
      "floor                     1216553 non-null int64\n",
      "dtypes: int64(7)\n",
      "memory usage: 65.0 MB\n"
     ]
    }
   ],
   "source": [
    "train.info()"
   ]
  },
  {
   "cell_type": "markdown",
   "metadata": {},
   "source": [
    "### 테스트 데이터도 트레이닝데이터와 똑같이 만들기 "
   ]
  },
  {
   "cell_type": "code",
   "execution_count": 63,
   "metadata": {},
   "outputs": [],
   "source": [
    "test['city']= pd.get_dummies(test['city'])"
   ]
  },
  {
   "cell_type": "code",
   "execution_count": 64,
   "metadata": {},
   "outputs": [],
   "source": [
    "test['transaction_date1']=test.transaction_date.map(transaction_date1)"
   ]
  },
  {
   "cell_type": "code",
   "execution_count": 65,
   "metadata": {},
   "outputs": [],
   "source": [
    "test=test.drop('transaction_date',axis=1)"
   ]
  },
  {
   "cell_type": "code",
   "execution_count": 66,
   "metadata": {},
   "outputs": [],
   "source": [
    "test['exclusive_use_area']=test['exclusive_use_area'].round()"
   ]
  },
  {
   "cell_type": "code",
   "execution_count": 67,
   "metadata": {},
   "outputs": [],
   "source": [
    "test.loc[test.floor<0]=0"
   ]
  },
  {
   "cell_type": "code",
   "execution_count": 68,
   "metadata": {},
   "outputs": [
    {
     "data": {
      "text/plain": [
       "0       1\n",
       "1       1\n",
       "2       1\n",
       "3       1\n",
       "4       2\n",
       "       ..\n",
       "5458    1\n",
       "5459    1\n",
       "5460    3\n",
       "5461    1\n",
       "5462    1\n",
       "Name: floor, Length: 5463, dtype: category\n",
       "Categories (8, object): [1 < 2 < 3 < 4 < 5 < 6 < 7 < 8]"
      ]
     },
     "execution_count": 68,
     "metadata": {},
     "output_type": "execute_result"
    }
   ],
   "source": [
    "f=test['floor']\n",
    "bins=[-1, 11, 21, 31, 41, 51, 61, 71, 81]\n",
    "labels=['1','2','3','4','5','6','7','8']\n",
    "e=pd.cut(f,bins,labels=labels)\n",
    "e"
   ]
  },
  {
   "cell_type": "code",
   "execution_count": 69,
   "metadata": {},
   "outputs": [],
   "source": [
    "test=test.drop('floor',axis=1)\n",
    "test['floor']= e"
   ]
  },
  {
   "cell_type": "code",
   "execution_count": 70,
   "metadata": {
    "scrolled": true
   },
   "outputs": [
    {
     "data": {
      "text/plain": [
       "2"
      ]
     },
     "execution_count": 70,
     "metadata": {},
     "output_type": "execute_result"
    }
   ],
   "source": [
    "sum(test['transaction_year_month']==0)"
   ]
  },
  {
   "cell_type": "code",
   "execution_count": 71,
   "metadata": {},
   "outputs": [
    {
     "data": {
      "text/plain": [
       "0       17\n",
       "1       17\n",
       "2       17\n",
       "3       17\n",
       "4       17\n",
       "        ..\n",
       "5458    17\n",
       "5459    17\n",
       "5460    17\n",
       "5461    17\n",
       "5462    17\n",
       "Name: transaction_year_month, Length: 5463, dtype: category\n",
       "Categories (11, object): [0 < 08 < 09 < 10 ... 14 < 15 < 16 < 17]"
      ]
     },
     "execution_count": 71,
     "metadata": {},
     "output_type": "execute_result"
    }
   ],
   "source": [
    "bins=[-1,200800, 200901, 201001, 201101, 201201, 201301, 201401, 201501, 201601,201701,201801]\n",
    "labels=['0','08','09','10','11','12','13','14','15','16','17']\n",
    "g=pd.cut(test['transaction_year_month'],bins,labels=labels)\n",
    "g"
   ]
  },
  {
   "cell_type": "code",
   "execution_count": 72,
   "metadata": {},
   "outputs": [],
   "source": [
    "test['transaction_year_month']=b"
   ]
  },
  {
   "cell_type": "code",
   "execution_count": 73,
   "metadata": {},
   "outputs": [],
   "source": [
    "test=test.drop('dong', axis=1)\n",
    "test=test.drop('apartment_id', axis=1)\n",
    "test=test.drop('jibun', axis=1)\n",
    "test=test.drop('apt', axis=1)\n",
    "test=test.drop('addr_kr', axis=1)\n",
    "test=test.drop('transaction_id', axis=1)"
   ]
  },
  {
   "cell_type": "code",
   "execution_count": 74,
   "metadata": {},
   "outputs": [],
   "source": [
    "test['exclusive_use_area']=test['exclusive_use_area'].astype(int)\n",
    "test['transaction_date1']=test['transaction_date1'].astype(int)\n",
    "test['floor']=test['floor'].astype(int)\n",
    "test['city']=test['city'].astype(int)"
   ]
  },
  {
   "cell_type": "code",
   "execution_count": 75,
   "metadata": {},
   "outputs": [
    {
     "data": {
      "text/html": [
       "<div>\n",
       "<style scoped>\n",
       "    .dataframe tbody tr th:only-of-type {\n",
       "        vertical-align: middle;\n",
       "    }\n",
       "\n",
       "    .dataframe tbody tr th {\n",
       "        vertical-align: top;\n",
       "    }\n",
       "\n",
       "    .dataframe thead th {\n",
       "        text-align: right;\n",
       "    }\n",
       "</style>\n",
       "<table border=\"1\" class=\"dataframe\">\n",
       "  <thead>\n",
       "    <tr style=\"text-align: right;\">\n",
       "      <th></th>\n",
       "      <th>city</th>\n",
       "      <th>exclusive_use_area</th>\n",
       "      <th>year_of_completion</th>\n",
       "      <th>transaction_year_month</th>\n",
       "      <th>transaction_date1</th>\n",
       "      <th>floor</th>\n",
       "    </tr>\n",
       "  </thead>\n",
       "  <tbody>\n",
       "    <tr>\n",
       "      <td>0</td>\n",
       "      <td>0</td>\n",
       "      <td>36</td>\n",
       "      <td>2002</td>\n",
       "      <td>08</td>\n",
       "      <td>2</td>\n",
       "      <td>1</td>\n",
       "    </tr>\n",
       "    <tr>\n",
       "      <td>1</td>\n",
       "      <td>1</td>\n",
       "      <td>69</td>\n",
       "      <td>1977</td>\n",
       "      <td>08</td>\n",
       "      <td>3</td>\n",
       "      <td>1</td>\n",
       "    </tr>\n",
       "    <tr>\n",
       "      <td>2</td>\n",
       "      <td>1</td>\n",
       "      <td>73</td>\n",
       "      <td>1989</td>\n",
       "      <td>08</td>\n",
       "      <td>2</td>\n",
       "      <td>1</td>\n",
       "    </tr>\n",
       "    <tr>\n",
       "      <td>3</td>\n",
       "      <td>0</td>\n",
       "      <td>112</td>\n",
       "      <td>2004</td>\n",
       "      <td>08</td>\n",
       "      <td>1</td>\n",
       "      <td>1</td>\n",
       "    </tr>\n",
       "    <tr>\n",
       "      <td>4</td>\n",
       "      <td>1</td>\n",
       "      <td>120</td>\n",
       "      <td>2014</td>\n",
       "      <td>08</td>\n",
       "      <td>2</td>\n",
       "      <td>2</td>\n",
       "    </tr>\n",
       "    <tr>\n",
       "      <td>...</td>\n",
       "      <td>...</td>\n",
       "      <td>...</td>\n",
       "      <td>...</td>\n",
       "      <td>...</td>\n",
       "      <td>...</td>\n",
       "      <td>...</td>\n",
       "    </tr>\n",
       "    <tr>\n",
       "      <td>5458</td>\n",
       "      <td>0</td>\n",
       "      <td>84</td>\n",
       "      <td>2003</td>\n",
       "      <td>08</td>\n",
       "      <td>2</td>\n",
       "      <td>1</td>\n",
       "    </tr>\n",
       "    <tr>\n",
       "      <td>5459</td>\n",
       "      <td>0</td>\n",
       "      <td>85</td>\n",
       "      <td>2009</td>\n",
       "      <td>08</td>\n",
       "      <td>1</td>\n",
       "      <td>1</td>\n",
       "    </tr>\n",
       "    <tr>\n",
       "      <td>5460</td>\n",
       "      <td>0</td>\n",
       "      <td>110</td>\n",
       "      <td>2004</td>\n",
       "      <td>08</td>\n",
       "      <td>3</td>\n",
       "      <td>3</td>\n",
       "    </tr>\n",
       "    <tr>\n",
       "      <td>5461</td>\n",
       "      <td>0</td>\n",
       "      <td>92</td>\n",
       "      <td>2005</td>\n",
       "      <td>08</td>\n",
       "      <td>3</td>\n",
       "      <td>1</td>\n",
       "    </tr>\n",
       "    <tr>\n",
       "      <td>5462</td>\n",
       "      <td>1</td>\n",
       "      <td>85</td>\n",
       "      <td>1993</td>\n",
       "      <td>08</td>\n",
       "      <td>1</td>\n",
       "      <td>1</td>\n",
       "    </tr>\n",
       "  </tbody>\n",
       "</table>\n",
       "<p>5463 rows × 6 columns</p>\n",
       "</div>"
      ],
      "text/plain": [
       "      city  exclusive_use_area  year_of_completion transaction_year_month  \\\n",
       "0        0                  36                2002                     08   \n",
       "1        1                  69                1977                     08   \n",
       "2        1                  73                1989                     08   \n",
       "3        0                 112                2004                     08   \n",
       "4        1                 120                2014                     08   \n",
       "...    ...                 ...                 ...                    ...   \n",
       "5458     0                  84                2003                     08   \n",
       "5459     0                  85                2009                     08   \n",
       "5460     0                 110                2004                     08   \n",
       "5461     0                  92                2005                     08   \n",
       "5462     1                  85                1993                     08   \n",
       "\n",
       "      transaction_date1  floor  \n",
       "0                     2      1  \n",
       "1                     3      1  \n",
       "2                     2      1  \n",
       "3                     1      1  \n",
       "4                     2      2  \n",
       "...                 ...    ...  \n",
       "5458                  2      1  \n",
       "5459                  1      1  \n",
       "5460                  3      3  \n",
       "5461                  3      1  \n",
       "5462                  1      1  \n",
       "\n",
       "[5463 rows x 6 columns]"
      ]
     },
     "execution_count": 75,
     "metadata": {},
     "output_type": "execute_result"
    }
   ],
   "source": [
    "test"
   ]
  },
  {
   "cell_type": "markdown",
   "metadata": {},
   "source": [
    "### 정규화\n",
    "#### 하지않으면 수치가 큰 데이터가 결과에 큰 영향을 주어 좋지못한 결과가 나온다"
   ]
  },
  {
   "cell_type": "code",
   "execution_count": 53,
   "metadata": {},
   "outputs": [],
   "source": [
    "import matplotlib.pyplot as plt\n",
    "import numpy as np\n",
    "import tensorflow as tf\n",
    "from sklearn import datasets\n",
    "from tensorflow.python.framework import ops\n",
    "import statsmodels.api as sm"
   ]
  },
  {
   "cell_type": "code",
   "execution_count": 48,
   "metadata": {
    "scrolled": true
   },
   "outputs": [
    {
     "data": {
      "text/html": [
       "<div>\n",
       "<style scoped>\n",
       "    .dataframe tbody tr th:only-of-type {\n",
       "        vertical-align: middle;\n",
       "    }\n",
       "\n",
       "    .dataframe tbody tr th {\n",
       "        vertical-align: top;\n",
       "    }\n",
       "\n",
       "    .dataframe thead th {\n",
       "        text-align: right;\n",
       "    }\n",
       "</style>\n",
       "<table border=\"1\" class=\"dataframe\">\n",
       "  <thead>\n",
       "    <tr style=\"text-align: right;\">\n",
       "      <th></th>\n",
       "      <th>city</th>\n",
       "      <th>exclusive_use_area</th>\n",
       "      <th>year_of_completion</th>\n",
       "      <th>transaction_year_month</th>\n",
       "      <th>transaction_real_price</th>\n",
       "      <th>transaction_date1</th>\n",
       "      <th>floor</th>\n",
       "    </tr>\n",
       "  </thead>\n",
       "  <tbody>\n",
       "    <tr>\n",
       "      <td>0</td>\n",
       "      <td>0</td>\n",
       "      <td>85</td>\n",
       "      <td>2002</td>\n",
       "      <td>8</td>\n",
       "      <td>37500</td>\n",
       "      <td>3</td>\n",
       "      <td>1</td>\n",
       "    </tr>\n",
       "    <tr>\n",
       "      <td>1</td>\n",
       "      <td>0</td>\n",
       "      <td>99</td>\n",
       "      <td>1973</td>\n",
       "      <td>8</td>\n",
       "      <td>20000</td>\n",
       "      <td>1</td>\n",
       "      <td>1</td>\n",
       "    </tr>\n",
       "    <tr>\n",
       "      <td>2</td>\n",
       "      <td>0</td>\n",
       "      <td>85</td>\n",
       "      <td>2007</td>\n",
       "      <td>8</td>\n",
       "      <td>38500</td>\n",
       "      <td>1</td>\n",
       "      <td>1</td>\n",
       "    </tr>\n",
       "    <tr>\n",
       "      <td>3</td>\n",
       "      <td>0</td>\n",
       "      <td>146</td>\n",
       "      <td>2003</td>\n",
       "      <td>8</td>\n",
       "      <td>118000</td>\n",
       "      <td>2</td>\n",
       "      <td>2</td>\n",
       "    </tr>\n",
       "    <tr>\n",
       "      <td>4</td>\n",
       "      <td>0</td>\n",
       "      <td>194</td>\n",
       "      <td>2004</td>\n",
       "      <td>8</td>\n",
       "      <td>120000</td>\n",
       "      <td>3</td>\n",
       "      <td>1</td>\n",
       "    </tr>\n",
       "    <tr>\n",
       "      <td>...</td>\n",
       "      <td>...</td>\n",
       "      <td>...</td>\n",
       "      <td>...</td>\n",
       "      <td>...</td>\n",
       "      <td>...</td>\n",
       "      <td>...</td>\n",
       "      <td>...</td>\n",
       "    </tr>\n",
       "    <tr>\n",
       "      <td>1216548</td>\n",
       "      <td>1</td>\n",
       "      <td>60</td>\n",
       "      <td>2012</td>\n",
       "      <td>17</td>\n",
       "      <td>22000</td>\n",
       "      <td>2</td>\n",
       "      <td>1</td>\n",
       "    </tr>\n",
       "    <tr>\n",
       "      <td>1216549</td>\n",
       "      <td>1</td>\n",
       "      <td>85</td>\n",
       "      <td>2012</td>\n",
       "      <td>17</td>\n",
       "      <td>30750</td>\n",
       "      <td>3</td>\n",
       "      <td>1</td>\n",
       "    </tr>\n",
       "    <tr>\n",
       "      <td>1216550</td>\n",
       "      <td>1</td>\n",
       "      <td>85</td>\n",
       "      <td>2012</td>\n",
       "      <td>17</td>\n",
       "      <td>29500</td>\n",
       "      <td>3</td>\n",
       "      <td>1</td>\n",
       "    </tr>\n",
       "    <tr>\n",
       "      <td>1216551</td>\n",
       "      <td>1</td>\n",
       "      <td>102</td>\n",
       "      <td>2008</td>\n",
       "      <td>17</td>\n",
       "      <td>26700</td>\n",
       "      <td>3</td>\n",
       "      <td>1</td>\n",
       "    </tr>\n",
       "    <tr>\n",
       "      <td>1216552</td>\n",
       "      <td>1</td>\n",
       "      <td>85</td>\n",
       "      <td>2012</td>\n",
       "      <td>17</td>\n",
       "      <td>28800</td>\n",
       "      <td>3</td>\n",
       "      <td>2</td>\n",
       "    </tr>\n",
       "  </tbody>\n",
       "</table>\n",
       "<p>1216553 rows × 7 columns</p>\n",
       "</div>"
      ],
      "text/plain": [
       "         city  exclusive_use_area  year_of_completion  transaction_year_month  \\\n",
       "0           0                  85                2002                       8   \n",
       "1           0                  99                1973                       8   \n",
       "2           0                  85                2007                       8   \n",
       "3           0                 146                2003                       8   \n",
       "4           0                 194                2004                       8   \n",
       "...       ...                 ...                 ...                     ...   \n",
       "1216548     1                  60                2012                      17   \n",
       "1216549     1                  85                2012                      17   \n",
       "1216550     1                  85                2012                      17   \n",
       "1216551     1                 102                2008                      17   \n",
       "1216552     1                  85                2012                      17   \n",
       "\n",
       "         transaction_real_price  transaction_date1  floor  \n",
       "0                         37500                  3      1  \n",
       "1                         20000                  1      1  \n",
       "2                         38500                  1      1  \n",
       "3                        118000                  2      2  \n",
       "4                        120000                  3      1  \n",
       "...                         ...                ...    ...  \n",
       "1216548                   22000                  2      1  \n",
       "1216549                   30750                  3      1  \n",
       "1216550                   29500                  3      1  \n",
       "1216551                   26700                  3      1  \n",
       "1216552                   28800                  3      2  \n",
       "\n",
       "[1216553 rows x 7 columns]"
      ]
     },
     "execution_count": 48,
     "metadata": {},
     "output_type": "execute_result"
    }
   ],
   "source": [
    "train"
   ]
  },
  {
   "cell_type": "code",
   "execution_count": 56,
   "metadata": {},
   "outputs": [],
   "source": [
    "from sklearn.preprocessing import MinMaxScaler\n",
    "scaler=MinMaxScaler()\n",
    "train1=train.copy()\n",
    "train1[:]=scaler.fit_transform(train1[:])\n",
    "#이 코드를 사용하면 데이터들을 0~1사이로 변환할 수 있다"
   ]
  },
  {
   "cell_type": "code",
   "execution_count": 76,
   "metadata": {},
   "outputs": [],
   "source": [
    "from sklearn.preprocessing import MinMaxScaler\n",
    "scaler=MinMaxScaler()\n",
    "test1=test.copy()\n",
    "test1[:]=scaler.fit_transform(test1[:])"
   ]
  },
  {
   "cell_type": "code",
   "execution_count": 57,
   "metadata": {
    "scrolled": false
   },
   "outputs": [
    {
     "data": {
      "text/html": [
       "<div>\n",
       "<style scoped>\n",
       "    .dataframe tbody tr th:only-of-type {\n",
       "        vertical-align: middle;\n",
       "    }\n",
       "\n",
       "    .dataframe tbody tr th {\n",
       "        vertical-align: top;\n",
       "    }\n",
       "\n",
       "    .dataframe thead th {\n",
       "        text-align: right;\n",
       "    }\n",
       "</style>\n",
       "<table border=\"1\" class=\"dataframe\">\n",
       "  <thead>\n",
       "    <tr style=\"text-align: right;\">\n",
       "      <th></th>\n",
       "      <th>city</th>\n",
       "      <th>exclusive_use_area</th>\n",
       "      <th>year_of_completion</th>\n",
       "      <th>transaction_year_month</th>\n",
       "      <th>transaction_real_price</th>\n",
       "      <th>transaction_date1</th>\n",
       "      <th>floor</th>\n",
       "    </tr>\n",
       "  </thead>\n",
       "  <tbody>\n",
       "    <tr>\n",
       "      <td>0</td>\n",
       "      <td>0.0</td>\n",
       "      <td>0.200472</td>\n",
       "      <td>0.992563</td>\n",
       "      <td>0.470588</td>\n",
       "      <td>0.045732</td>\n",
       "      <td>1.000000</td>\n",
       "      <td>0.000000</td>\n",
       "    </tr>\n",
       "    <tr>\n",
       "      <td>1</td>\n",
       "      <td>0.0</td>\n",
       "      <td>0.233491</td>\n",
       "      <td>0.978185</td>\n",
       "      <td>0.470588</td>\n",
       "      <td>0.024390</td>\n",
       "      <td>0.333333</td>\n",
       "      <td>0.000000</td>\n",
       "    </tr>\n",
       "    <tr>\n",
       "      <td>2</td>\n",
       "      <td>0.0</td>\n",
       "      <td>0.200472</td>\n",
       "      <td>0.995042</td>\n",
       "      <td>0.470588</td>\n",
       "      <td>0.046951</td>\n",
       "      <td>0.333333</td>\n",
       "      <td>0.000000</td>\n",
       "    </tr>\n",
       "    <tr>\n",
       "      <td>3</td>\n",
       "      <td>0.0</td>\n",
       "      <td>0.344340</td>\n",
       "      <td>0.993059</td>\n",
       "      <td>0.470588</td>\n",
       "      <td>0.143902</td>\n",
       "      <td>0.666667</td>\n",
       "      <td>0.142857</td>\n",
       "    </tr>\n",
       "    <tr>\n",
       "      <td>4</td>\n",
       "      <td>0.0</td>\n",
       "      <td>0.457547</td>\n",
       "      <td>0.993555</td>\n",
       "      <td>0.470588</td>\n",
       "      <td>0.146341</td>\n",
       "      <td>1.000000</td>\n",
       "      <td>0.000000</td>\n",
       "    </tr>\n",
       "  </tbody>\n",
       "</table>\n",
       "</div>"
      ],
      "text/plain": [
       "   city  exclusive_use_area  year_of_completion  transaction_year_month  \\\n",
       "0   0.0            0.200472            0.992563                0.470588   \n",
       "1   0.0            0.233491            0.978185                0.470588   \n",
       "2   0.0            0.200472            0.995042                0.470588   \n",
       "3   0.0            0.344340            0.993059                0.470588   \n",
       "4   0.0            0.457547            0.993555                0.470588   \n",
       "\n",
       "   transaction_real_price  transaction_date1     floor  \n",
       "0                0.045732           1.000000  0.000000  \n",
       "1                0.024390           0.333333  0.000000  \n",
       "2                0.046951           0.333333  0.000000  \n",
       "3                0.143902           0.666667  0.142857  \n",
       "4                0.146341           1.000000  0.000000  "
      ]
     },
     "execution_count": 57,
     "metadata": {},
     "output_type": "execute_result"
    }
   ],
   "source": [
    "train1.head()"
   ]
  },
  {
   "cell_type": "code",
   "execution_count": 77,
   "metadata": {},
   "outputs": [
    {
     "data": {
      "text/html": [
       "<div>\n",
       "<style scoped>\n",
       "    .dataframe tbody tr th:only-of-type {\n",
       "        vertical-align: middle;\n",
       "    }\n",
       "\n",
       "    .dataframe tbody tr th {\n",
       "        vertical-align: top;\n",
       "    }\n",
       "\n",
       "    .dataframe thead th {\n",
       "        text-align: right;\n",
       "    }\n",
       "</style>\n",
       "<table border=\"1\" class=\"dataframe\">\n",
       "  <thead>\n",
       "    <tr style=\"text-align: right;\">\n",
       "      <th></th>\n",
       "      <th>city</th>\n",
       "      <th>exclusive_use_area</th>\n",
       "      <th>year_of_completion</th>\n",
       "      <th>transaction_year_month</th>\n",
       "      <th>transaction_date1</th>\n",
       "      <th>floor</th>\n",
       "    </tr>\n",
       "  </thead>\n",
       "  <tbody>\n",
       "    <tr>\n",
       "      <td>0</td>\n",
       "      <td>0.0</td>\n",
       "      <td>0.131387</td>\n",
       "      <td>0.992563</td>\n",
       "      <td>0.5</td>\n",
       "      <td>0.666667</td>\n",
       "      <td>0.0</td>\n",
       "    </tr>\n",
       "    <tr>\n",
       "      <td>1</td>\n",
       "      <td>1.0</td>\n",
       "      <td>0.251825</td>\n",
       "      <td>0.980169</td>\n",
       "      <td>0.5</td>\n",
       "      <td>1.000000</td>\n",
       "      <td>0.0</td>\n",
       "    </tr>\n",
       "    <tr>\n",
       "      <td>2</td>\n",
       "      <td>1.0</td>\n",
       "      <td>0.266423</td>\n",
       "      <td>0.986118</td>\n",
       "      <td>0.5</td>\n",
       "      <td>0.666667</td>\n",
       "      <td>0.0</td>\n",
       "    </tr>\n",
       "    <tr>\n",
       "      <td>3</td>\n",
       "      <td>0.0</td>\n",
       "      <td>0.408759</td>\n",
       "      <td>0.993555</td>\n",
       "      <td>0.5</td>\n",
       "      <td>0.333333</td>\n",
       "      <td>0.0</td>\n",
       "    </tr>\n",
       "    <tr>\n",
       "      <td>4</td>\n",
       "      <td>1.0</td>\n",
       "      <td>0.437956</td>\n",
       "      <td>0.998513</td>\n",
       "      <td>0.5</td>\n",
       "      <td>0.666667</td>\n",
       "      <td>0.2</td>\n",
       "    </tr>\n",
       "  </tbody>\n",
       "</table>\n",
       "</div>"
      ],
      "text/plain": [
       "   city  exclusive_use_area  year_of_completion  transaction_year_month  \\\n",
       "0   0.0            0.131387            0.992563                     0.5   \n",
       "1   1.0            0.251825            0.980169                     0.5   \n",
       "2   1.0            0.266423            0.986118                     0.5   \n",
       "3   0.0            0.408759            0.993555                     0.5   \n",
       "4   1.0            0.437956            0.998513                     0.5   \n",
       "\n",
       "   transaction_date1  floor  \n",
       "0           0.666667    0.0  \n",
       "1           1.000000    0.0  \n",
       "2           0.666667    0.0  \n",
       "3           0.333333    0.0  \n",
       "4           0.666667    0.2  "
      ]
     },
     "execution_count": 77,
     "metadata": {},
     "output_type": "execute_result"
    }
   ],
   "source": [
    "test1.head()"
   ]
  },
  {
   "cell_type": "markdown",
   "metadata": {},
   "source": [
    "model = sm.OLS.from_formula(\n",
    "    \"Y ~ x + I(x**2) + I(x**3) + I(x**4) + I(x**5) + I(x**6) + I(x**7) + I(x**8) + I(x**9)\", data=train1)\n",
    "result1 = model.fit()\n",
    "result1.params"
   ]
  },
  {
   "cell_type": "markdown",
   "metadata": {},
   "source": [
    "### Random Forest"
   ]
  },
  {
   "cell_type": "code",
   "execution_count": 45,
   "metadata": {},
   "outputs": [],
   "source": [
    "from sklearn.ensemble import RandomForestRegressor"
   ]
  },
  {
   "cell_type": "code",
   "execution_count": 46,
   "metadata": {
    "scrolled": true
   },
   "outputs": [
    {
     "data": {
      "text/plain": [
       "Index(['city', 'exclusive_use_area', 'year_of_completion',\n",
       "       'transaction_year_month', 'transaction_real_price', 'transaction_date1',\n",
       "       'floor'],\n",
       "      dtype='object')"
      ]
     },
     "execution_count": 46,
     "metadata": {},
     "output_type": "execute_result"
    }
   ],
   "source": [
    "train.columns"
   ]
  },
  {
   "cell_type": "code",
   "execution_count": 59,
   "metadata": {},
   "outputs": [],
   "source": [
    "Y=train1['transaction_real_price']\n",
    "x=train1[['city', 'exclusive_use_area', 'year_of_completion',\n",
    "       'transaction_year_month','transaction_date1',\n",
    "       'floor']]"
   ]
  },
  {
   "cell_type": "markdown",
   "metadata": {},
   "source": [
    "## =================="
   ]
  },
  {
   "cell_type": "code",
   "execution_count": 79,
   "metadata": {},
   "outputs": [],
   "source": [
    "rf=RandomForestRegressor(n_estimators=500)"
   ]
  },
  {
   "cell_type": "code",
   "execution_count": 95,
   "metadata": {},
   "outputs": [
    {
     "data": {
      "text/plain": [
       "RandomForestRegressor(bootstrap=True, criterion='mse', max_depth=None,\n",
       "                      max_features='auto', max_leaf_nodes=None,\n",
       "                      min_impurity_decrease=0.0, min_impurity_split=None,\n",
       "                      min_samples_leaf=1, min_samples_split=2,\n",
       "                      min_weight_fraction_leaf=0.0, n_estimators=500,\n",
       "                      n_jobs=None, oob_score=False, random_state=None,\n",
       "                      verbose=0, warm_start=False)"
      ]
     },
     "execution_count": 95,
     "metadata": {},
     "output_type": "execute_result"
    }
   ],
   "source": [
    "rf.fit(X,y)"
   ]
  },
  {
   "cell_type": "code",
   "execution_count": 132,
   "metadata": {},
   "outputs": [],
   "source": [
    "train=train\n",
    "test=test\n",
    "y_train=train['transaction_real_price']\n",
    "X_train=train[['city', 'exclusive_use_area', 'year_of_completion',\n",
    "       'transaction_year_month','transaction_date1',\n",
    "       'floor']]\n",
    "\n",
    "y_test=test['transaction_real_price']\n",
    "X_test=test[['city', 'exclusive_use_area', 'year_of_completion',\n",
    "       'transaction_year_month','transaction_date1',\n",
    "       'floor']]"
   ]
  },
  {
   "cell_type": "code",
   "execution_count": 134,
   "metadata": {},
   "outputs": [
    {
     "data": {
      "text/plain": [
       "RandomForestRegressor(bootstrap=True, criterion='mse', max_depth=None,\n",
       "                      max_features='auto', max_leaf_nodes=None,\n",
       "                      min_impurity_decrease=0.0, min_impurity_split=None,\n",
       "                      min_samples_leaf=1, min_samples_split=2,\n",
       "                      min_weight_fraction_leaf=0.0, n_estimators=500,\n",
       "                      n_jobs=None, oob_score=False, random_state=None,\n",
       "                      verbose=0, warm_start=False)"
      ]
     },
     "execution_count": 134,
     "metadata": {},
     "output_type": "execute_result"
    }
   ],
   "source": [
    "rf=RandomForestRegressor(n_estimators=500)\n",
    "rf.fit(X_train,y_train)"
   ]
  },
  {
   "cell_type": "code",
   "execution_count": 135,
   "metadata": {},
   "outputs": [],
   "source": [
    "pred=rf.predict(X_test)\n",
    "real=test['transaction_real_price']"
   ]
  },
  {
   "cell_type": "code",
   "execution_count": 136,
   "metadata": {
    "scrolled": true
   },
   "outputs": [
    {
     "data": {
      "text/plain": [
       "50792.33614060205"
      ]
     },
     "execution_count": 136,
     "metadata": {},
     "output_type": "execute_result"
    }
   ],
   "source": [
    "from sklearn.metrics import mean_squared_error\n",
    "mean_squared_error(real,pred)**0.5"
   ]
  },
  {
   "cell_type": "markdown",
   "metadata": {},
   "source": [
    "## ========================="
   ]
  },
  {
   "cell_type": "markdown",
   "metadata": {},
   "source": [
    "### 아마도 test에 real price를 0으로 둬서 이렇게 된거같다 \n",
    "#### 그냥 train셋을 70:30으로 나누어서 진행 "
   ]
  },
  {
   "cell_type": "code",
   "execution_count": 48,
   "metadata": {},
   "outputs": [
    {
     "name": "stdout",
     "output_type": "stream",
     "text": [
      "851587\n",
      "364966\n",
      "851587\n",
      "364966\n"
     ]
    }
   ],
   "source": [
    "from sklearn.model_selection import train_test_split\n",
    "x_train1, x_test1, Y_train1, Y_test1 = train1_test1_split(x,Y, test_size = 0.3, random_state=10)\n",
    "print(len(x_train1))\n",
    "print(len(x_test1))\n",
    "print(len(Y_train1))\n",
    "print(len(Y_test1))"
   ]
  },
  {
   "cell_type": "code",
   "execution_count": 49,
   "metadata": {},
   "outputs": [],
   "source": [
    "rf=RandomForestRegressor(n_estimators=50)"
   ]
  },
  {
   "cell_type": "code",
   "execution_count": 50,
   "metadata": {
    "scrolled": true
   },
   "outputs": [
    {
     "data": {
      "text/plain": [
       "RandomForestRegressor(bootstrap=True, criterion='mse', max_depth=None,\n",
       "                      max_features='auto', max_leaf_nodes=None,\n",
       "                      min_impurity_decrease=0.0, min_impurity_split=None,\n",
       "                      min_samples_leaf=1, min_samples_split=2,\n",
       "                      min_weight_fraction_leaf=0.0, n_estimators=50,\n",
       "                      n_jobs=None, oob_score=False, random_state=None,\n",
       "                      verbose=0, warm_start=False)"
      ]
     },
     "execution_count": 50,
     "metadata": {},
     "output_type": "execute_result"
    }
   ],
   "source": [
    "rf.fit(x_train,Y_train)"
   ]
  },
  {
   "cell_type": "code",
   "execution_count": 51,
   "metadata": {},
   "outputs": [],
   "source": [
    "pred=rf.predict(x_test)\n",
    "real=Y_test"
   ]
  },
  {
   "cell_type": "code",
   "execution_count": 52,
   "metadata": {},
   "outputs": [
    {
     "data": {
      "text/plain": [
       "12164.908802239324"
      ]
     },
     "execution_count": 52,
     "metadata": {},
     "output_type": "execute_result"
    }
   ],
   "source": [
    "from sklearn.metrics import mean_squared_error\n",
    "mean_squared_error(real,pred)**0.5"
   ]
  },
  {
   "cell_type": "code",
   "execution_count": 53,
   "metadata": {},
   "outputs": [
    {
     "data": {
      "text/plain": [
       "12170.075645639325"
      ]
     },
     "execution_count": 53,
     "metadata": {},
     "output_type": "execute_result"
    }
   ],
   "source": [
    "mean_squared_error(real,pred,sample_weight=x_test['year_of_completion'])**0.5"
   ]
  },
  {
   "cell_type": "code",
   "execution_count": 54,
   "metadata": {
    "scrolled": true
   },
   "outputs": [
    {
     "data": {
      "text/plain": [
       "Index(['city', 'exclusive_use_area', 'year_of_completion',\n",
       "       'transaction_year_month', 'transaction_date1', 'floor'],\n",
       "      dtype='object')"
      ]
     },
     "execution_count": 54,
     "metadata": {},
     "output_type": "execute_result"
    }
   ],
   "source": [
    "x_test.columns"
   ]
  },
  {
   "cell_type": "code",
   "execution_count": 55,
   "metadata": {
    "scrolled": true
   },
   "outputs": [
    {
     "data": {
      "text/plain": [
       "13969.16525303259"
      ]
     },
     "execution_count": 55,
     "metadata": {},
     "output_type": "execute_result"
    }
   ],
   "source": [
    "mean_squared_error(real,pred,sample_weight=x_test['exclusive_use_area'])**0.5"
   ]
  },
  {
   "cell_type": "code",
   "execution_count": 56,
   "metadata": {
    "scrolled": true
   },
   "outputs": [
    {
     "data": {
      "text/plain": [
       "12317.74936045582"
      ]
     },
     "execution_count": 56,
     "metadata": {},
     "output_type": "execute_result"
    }
   ],
   "source": [
    "mean_squared_error(real,pred,sample_weight=x_test['floor'])**0.5"
   ]
  },
  {
   "cell_type": "code",
   "execution_count": 57,
   "metadata": {
    "scrolled": false
   },
   "outputs": [
    {
     "data": {
      "text/plain": [
       "4735.948304988542"
      ]
     },
     "execution_count": 57,
     "metadata": {},
     "output_type": "execute_result"
    }
   ],
   "source": [
    "mean_squared_error(real,pred,sample_weight=x_test['city'])**0.5"
   ]
  },
  {
   "cell_type": "markdown",
   "metadata": {},
   "source": [
    "#### 가중치를 도시별로 두었을때가 가장 예측결과가 좋다 "
   ]
  },
  {
   "cell_type": "markdown",
   "metadata": {},
   "source": [
    "### Light GBM"
   ]
  },
  {
   "cell_type": "code",
   "execution_count": 59,
   "metadata": {},
   "outputs": [
    {
     "name": "stderr",
     "output_type": "stream",
     "text": [
      "/Users/Moon/opt/anaconda3/lib/python3.7/site-packages/lightgbm/__init__.py:48: UserWarning: Starting from version 2.2.1, the library file in distribution wheels for macOS is built by the Apple Clang (Xcode_8.3.3) compiler.\n",
      "This means that in case of installing LightGBM from PyPI via the ``pip install lightgbm`` command, you don't need to install the gcc compiler anymore.\n",
      "Instead of that, you need to install the OpenMP library, which is required for running LightGBM on the system with the Apple Clang compiler.\n",
      "You can install the OpenMP library by the following command: ``brew install libomp``.\n",
      "  \"You can install the OpenMP library by the following command: ``brew install libomp``.\", UserWarning)\n"
     ]
    },
    {
     "name": "stdout",
     "output_type": "stream",
     "text": [
      "Training until validation scores don't improve for 200 rounds\n",
      "[100]\ttraining's rmse: 6216.7\n",
      "[200]\ttraining's rmse: 5556.17\n",
      "[300]\ttraining's rmse: 5392.66\n",
      "[400]\ttraining's rmse: 5313.34\n",
      "[500]\ttraining's rmse: 5242.24\n",
      "[600]\ttraining's rmse: 5185.74\n",
      "[700]\ttraining's rmse: 5132.6\n",
      "[800]\ttraining's rmse: 5089.99\n",
      "[900]\ttraining's rmse: 5055.32\n",
      "[1000]\ttraining's rmse: 5028.48\n",
      "Did not meet early stopping. Best iteration is:\n",
      "[1000]\ttraining's rmse: 5028.48\n"
     ]
    }
   ],
   "source": [
    "import lightgbm as lgb\n",
    "param = {'num_leaves' : 100, \n",
    "         'min_data_in_leaf' : 30,\n",
    "         'objective' : 'regression',\n",
    "         'max_depth' : 6,\n",
    "         'learning_rate' : 0.02,\n",
    "         'boosting' : 'gbdt',\n",
    "         'feature_fraction' : 0.7522,\n",
    "         'bagging_freq' : 1,\n",
    "         'bagging_fraction' : 0.7083,\n",
    "         'bagging_seed' : 11,\n",
    "         'metric' : 'rmse',\n",
    "         'random_state': 2019} \n",
    "\n",
    "trn_data = lgb.Dataset(x_train, label=Y_train,weight=x_train['city']) #weight=train['AB']\n",
    "num_round = 1000\n",
    "clf = lgb.train(param, trn_data, num_round, valid_sets=[trn_data], verbose_eval=100, early_stopping_rounds = 200)"
   ]
  },
  {
   "cell_type": "code",
   "execution_count": 60,
   "metadata": {},
   "outputs": [],
   "source": [
    "predictions = clf.predict(x_test, num_iteration=clf.best_iteration)"
   ]
  },
  {
   "cell_type": "code",
   "execution_count": 61,
   "metadata": {
    "scrolled": true
   },
   "outputs": [
    {
     "data": {
      "text/plain": [
       "array([27198.02062329, 15001.35297394, 12886.21980393, ...,\n",
       "       17078.86670945, 18432.68890884, 77128.63487475])"
      ]
     },
     "execution_count": 61,
     "metadata": {},
     "output_type": "execute_result"
    }
   ],
   "source": [
    "predictions"
   ]
  },
  {
   "cell_type": "code",
   "execution_count": 62,
   "metadata": {
    "scrolled": true
   },
   "outputs": [
    {
     "data": {
      "text/plain": [
       "421791      64500\n",
       "247552      20000\n",
       "269360      18000\n",
       "300405      76100\n",
       "596024      97000\n",
       "            ...  \n",
       "590773      40000\n",
       "1049676     13500\n",
       "164953      20400\n",
       "189900      54500\n",
       "34885      310000\n",
       "Name: transaction_real_price, Length: 364966, dtype: int64"
      ]
     },
     "execution_count": 62,
     "metadata": {},
     "output_type": "execute_result"
    }
   ],
   "source": [
    "Y_test"
   ]
  },
  {
   "cell_type": "code",
   "execution_count": 64,
   "metadata": {
    "scrolled": true
   },
   "outputs": [
    {
     "data": {
      "text/plain": [
       "<matplotlib.collections.PathCollection at 0x1a262bc410>"
      ]
     },
     "execution_count": 64,
     "metadata": {},
     "output_type": "execute_result"
    },
    {
     "data": {
      "image/png": "[encoded data removed]",
      "text/plain": [
       "<Figure size 432x288 with 1 Axes>"
      ]
     },
     "metadata": {
      "needs_background": "light"
     },
     "output_type": "display_data"
    }
   ],
   "source": [
    "plt.scatter(predictions,Y_test)"
   ]
  },
  {
   "cell_type": "markdown",
   "metadata": {},
   "source": [
    "### 결론 city를 가중치로 두었을때 랜덤포레스트가 Light GBM보다 예측성능이 좋다\n",
    "#### 왜 좋은지는 잘모르겠음"
   ]
  },
  {
   "cell_type": "markdown",
   "metadata": {},
   "source": [
    "### XGBOOST"
   ]
  },
  {
   "cell_type": "code",
   "execution_count": null,
   "metadata": {},
   "outputs": [],
   "source": [
    "from xgboost import plot_importance\n",
    "from xgboost import XGBClassifier"
   ]
  },
  {
   "cell_type": "code",
   "execution_count": null,
   "metadata": {},
   "outputs": [],
   "source": []
  }
 ],
 "metadata": {
  "kernelspec": {
   "display_name": "Python 3",
   "language": "python",
   "name": "python3"
  },
  "language_info": {
   "codemirror_mode": {
    "name": "ipython",
    "version": 3
   },
   "file_extension": ".py",
   "mimetype": "text/x-python",
   "name": "python",
   "nbconvert_exporter": "python",
   "pygments_lexer": "ipython3",
   "version": "3.7.4"
  }
 },
 "nbformat": 4,
 "nbformat_minor": 2
}
