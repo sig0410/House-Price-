{
 "cells": [
  {
   "cell_type": "code",
   "execution_count": 2,
   "metadata": {},
   "outputs": [],
   "source": [
    "import numpy as np\n",
    "import pandas as pd\n",
    "import seaborn as sns\n",
    "from sklearn import datasets\n",
    "import matplotlib.pyplot as plt\n",
    "import seaborn as sns\n",
    "from matplotlib import rc, font_manager\n",
    "rc('font', family='NanumSquareR')"
   ]
  },
  {
   "cell_type": "markdown",
   "metadata": {},
   "source": [
    "# 아파트 실거래가 예측 #"
   ]
  },
  {
   "cell_type": "code",
   "execution_count": 3,
   "metadata": {},
   "outputs": [],
   "source": [
    "train = pd.read_csv('./apt train.csv')"
   ]
  },
  {
   "cell_type": "code",
   "execution_count": 4,
   "metadata": {},
   "outputs": [],
   "source": [
    "test = pd.read_csv('./apt test.csv')"
   ]
  },
  {
   "cell_type": "code",
   "execution_count": 5,
   "metadata": {},
   "outputs": [
    {
     "data": {
      "text/html": [
       "<div>\n",
       "<style scoped>\n",
       "    .dataframe tbody tr th:only-of-type {\n",
       "        vertical-align: middle;\n",
       "    }\n",
       "\n",
       "    .dataframe tbody tr th {\n",
       "        vertical-align: top;\n",
       "    }\n",
       "\n",
       "    .dataframe thead th {\n",
       "        text-align: right;\n",
       "    }\n",
       "</style>\n",
       "<table border=\"1\" class=\"dataframe\">\n",
       "  <thead>\n",
       "    <tr style=\"text-align: right;\">\n",
       "      <th></th>\n",
       "      <th>transaction_id</th>\n",
       "      <th>apartment_id</th>\n",
       "      <th>city</th>\n",
       "      <th>dong</th>\n",
       "      <th>jibun</th>\n",
       "      <th>apt</th>\n",
       "      <th>addr_kr</th>\n",
       "      <th>exclusive_use_area</th>\n",
       "      <th>year_of_completion</th>\n",
       "      <th>transaction_year_month</th>\n",
       "      <th>transaction_date</th>\n",
       "      <th>floor</th>\n",
       "      <th>transaction_real_price</th>\n",
       "    </tr>\n",
       "  </thead>\n",
       "  <tbody>\n",
       "    <tr>\n",
       "      <td>0</td>\n",
       "      <td>0</td>\n",
       "      <td>7622</td>\n",
       "      <td>서울특별시</td>\n",
       "      <td>신교동</td>\n",
       "      <td>6-13</td>\n",
       "      <td>신현(101동)</td>\n",
       "      <td>신교동 6-13 신현(101동)</td>\n",
       "      <td>84.82</td>\n",
       "      <td>2002</td>\n",
       "      <td>200801</td>\n",
       "      <td>21~31</td>\n",
       "      <td>2</td>\n",
       "      <td>37500</td>\n",
       "    </tr>\n",
       "    <tr>\n",
       "      <td>1</td>\n",
       "      <td>1</td>\n",
       "      <td>5399</td>\n",
       "      <td>서울특별시</td>\n",
       "      <td>필운동</td>\n",
       "      <td>142</td>\n",
       "      <td>사직파크맨션</td>\n",
       "      <td>필운동 142 사직파크맨션</td>\n",
       "      <td>99.17</td>\n",
       "      <td>1973</td>\n",
       "      <td>200801</td>\n",
       "      <td>1~10</td>\n",
       "      <td>6</td>\n",
       "      <td>20000</td>\n",
       "    </tr>\n",
       "    <tr>\n",
       "      <td>2</td>\n",
       "      <td>2</td>\n",
       "      <td>3578</td>\n",
       "      <td>서울특별시</td>\n",
       "      <td>필운동</td>\n",
       "      <td>174-1</td>\n",
       "      <td>두레엘리시안</td>\n",
       "      <td>필운동 174-1 두레엘리시안</td>\n",
       "      <td>84.74</td>\n",
       "      <td>2007</td>\n",
       "      <td>200801</td>\n",
       "      <td>1~10</td>\n",
       "      <td>6</td>\n",
       "      <td>38500</td>\n",
       "    </tr>\n",
       "    <tr>\n",
       "      <td>3</td>\n",
       "      <td>3</td>\n",
       "      <td>10957</td>\n",
       "      <td>서울특별시</td>\n",
       "      <td>내수동</td>\n",
       "      <td>95</td>\n",
       "      <td>파크팰리스</td>\n",
       "      <td>내수동 95 파크팰리스</td>\n",
       "      <td>146.39</td>\n",
       "      <td>2003</td>\n",
       "      <td>200801</td>\n",
       "      <td>11~20</td>\n",
       "      <td>15</td>\n",
       "      <td>118000</td>\n",
       "    </tr>\n",
       "    <tr>\n",
       "      <td>4</td>\n",
       "      <td>4</td>\n",
       "      <td>10639</td>\n",
       "      <td>서울특별시</td>\n",
       "      <td>내수동</td>\n",
       "      <td>110-15</td>\n",
       "      <td>킹스매너</td>\n",
       "      <td>내수동 110-15 킹스매너</td>\n",
       "      <td>194.43</td>\n",
       "      <td>2004</td>\n",
       "      <td>200801</td>\n",
       "      <td>21~31</td>\n",
       "      <td>3</td>\n",
       "      <td>120000</td>\n",
       "    </tr>\n",
       "  </tbody>\n",
       "</table>\n",
       "</div>"
      ],
      "text/plain": [
       "   transaction_id  apartment_id   city dong   jibun       apt  \\\n",
       "0               0          7622  서울특별시  신교동    6-13  신현(101동)   \n",
       "1               1          5399  서울특별시  필운동     142    사직파크맨션   \n",
       "2               2          3578  서울특별시  필운동   174-1    두레엘리시안   \n",
       "3               3         10957  서울특별시  내수동      95     파크팰리스   \n",
       "4               4         10639  서울특별시  내수동  110-15      킹스매너   \n",
       "\n",
       "             addr_kr  exclusive_use_area  year_of_completion  \\\n",
       "0  신교동 6-13 신현(101동)               84.82                2002   \n",
       "1     필운동 142 사직파크맨션               99.17                1973   \n",
       "2   필운동 174-1 두레엘리시안               84.74                2007   \n",
       "3       내수동 95 파크팰리스              146.39                2003   \n",
       "4    내수동 110-15 킹스매너              194.43                2004   \n",
       "\n",
       "   transaction_year_month transaction_date  floor  transaction_real_price  \n",
       "0                  200801            21~31      2                   37500  \n",
       "1                  200801             1~10      6                   20000  \n",
       "2                  200801             1~10      6                   38500  \n",
       "3                  200801            11~20     15                  118000  \n",
       "4                  200801            21~31      3                  120000  "
      ]
     },
     "execution_count": 5,
     "metadata": {},
     "output_type": "execute_result"
    }
   ],
   "source": [
    "train.head()"
   ]
  },
  {
   "cell_type": "code",
   "execution_count": 6,
   "metadata": {
    "scrolled": true
   },
   "outputs": [
    {
     "name": "stdout",
     "output_type": "stream",
     "text": [
      "<class 'pandas.core.frame.DataFrame'>\n",
      "RangeIndex: 1216553 entries, 0 to 1216552\n",
      "Data columns (total 13 columns):\n",
      "transaction_id            1216553 non-null int64\n",
      "apartment_id              1216553 non-null int64\n",
      "city                      1216553 non-null object\n",
      "dong                      1216553 non-null object\n",
      "jibun                     1216553 non-null object\n",
      "apt                       1216553 non-null object\n",
      "addr_kr                   1216553 non-null object\n",
      "exclusive_use_area        1216553 non-null float64\n",
      "year_of_completion        1216553 non-null int64\n",
      "transaction_year_month    1216553 non-null int64\n",
      "transaction_date          1216553 non-null object\n",
      "floor                     1216553 non-null int64\n",
      "transaction_real_price    1216553 non-null int64\n",
      "dtypes: float64(1), int64(6), object(6)\n",
      "memory usage: 120.7+ MB\n"
     ]
    }
   ],
   "source": [
    "train.info()"
   ]
  },
  {
   "cell_type": "markdown",
   "metadata": {},
   "source": [
    "### 유용하다고 생각되는 컬럼들만 추출 ###"
   ]
  },
  {
   "cell_type": "code",
   "execution_count": 7,
   "metadata": {},
   "outputs": [],
   "source": [
    "df=train[['city','exclusive_use_area','year_of_completion','transaction_year_month','floor','transaction_real_price']]"
   ]
  },
  {
   "cell_type": "code",
   "execution_count": 8,
   "metadata": {
    "scrolled": false
   },
   "outputs": [
    {
     "name": "stdout",
     "output_type": "stream",
     "text": [
      "<class 'pandas.core.frame.DataFrame'>\n",
      "RangeIndex: 1216553 entries, 0 to 1216552\n",
      "Data columns (total 6 columns):\n",
      "city                      1216553 non-null object\n",
      "exclusive_use_area        1216553 non-null float64\n",
      "year_of_completion        1216553 non-null int64\n",
      "transaction_year_month    1216553 non-null int64\n",
      "floor                     1216553 non-null int64\n",
      "transaction_real_price    1216553 non-null int64\n",
      "dtypes: float64(1), int64(4), object(1)\n",
      "memory usage: 55.7+ MB\n"
     ]
    }
   ],
   "source": [
    "df.info()"
   ]
  },
  {
   "cell_type": "markdown",
   "metadata": {},
   "source": [
    "## Random Forest ##"
   ]
  },
  {
   "cell_type": "code",
   "execution_count": 21,
   "metadata": {},
   "outputs": [],
   "source": [
    "from sklearn.ensemble import RandomForestRegressor"
   ]
  },
  {
   "cell_type": "code",
   "execution_count": 19,
   "metadata": {
    "scrolled": false
   },
   "outputs": [
    {
     "data": {
      "text/plain": [
       "Index(['city', 'exclusive_use_area', 'year_of_completion',\n",
       "       'transaction_year_month', 'floor', 'transaction_real_price'],\n",
       "      dtype='object')"
      ]
     },
     "execution_count": 19,
     "metadata": {},
     "output_type": "execute_result"
    }
   ],
   "source": [
    "df.columns"
   ]
  },
  {
   "cell_type": "code",
   "execution_count": 9,
   "metadata": {
    "scrolled": true
   },
   "outputs": [
    {
     "name": "stderr",
     "output_type": "stream",
     "text": [
      "/Users/Moon/opt/anaconda3/lib/python3.7/site-packages/ipykernel_launcher.py:1: SettingWithCopyWarning: \n",
      "A value is trying to be set on a copy of a slice from a DataFrame.\n",
      "Try using .loc[row_indexer,col_indexer] = value instead\n",
      "\n",
      "See the caveats in the documentation: http://pandas.pydata.org/pandas-docs/stable/user_guide/indexing.html#returning-a-view-versus-a-copy\n",
      "  \"\"\"Entry point for launching an IPython kernel.\n"
     ]
    }
   ],
   "source": [
    "df['city'] = pd.get_dummies(df['city'])\n",
    "#city가 string이므로 더미변수를 만들어서 랜덤포레스트에 적용해야한다"
   ]
  },
  {
   "cell_type": "code",
   "execution_count": 10,
   "metadata": {
    "scrolled": false
   },
   "outputs": [
    {
     "name": "stderr",
     "output_type": "stream",
     "text": [
      "/Users/Moon/opt/anaconda3/lib/python3.7/site-packages/ipykernel_launcher.py:1: SettingWithCopyWarning: \n",
      "A value is trying to be set on a copy of a slice from a DataFrame.\n",
      "Try using .loc[row_indexer,col_indexer] = value instead\n",
      "\n",
      "See the caveats in the documentation: http://pandas.pydata.org/pandas-docs/stable/user_guide/indexing.html#returning-a-view-versus-a-copy\n",
      "  \"\"\"Entry point for launching an IPython kernel.\n"
     ]
    }
   ],
   "source": [
    "df['transaction_year_month']=df['transaction_year_month'].astype(str)"
   ]
  },
  {
   "cell_type": "code",
   "execution_count": 11,
   "metadata": {},
   "outputs": [],
   "source": [
    "a= df.assign(year = df['transaction_year_month'].str.slice(0, 4) )\n",
    "#년도말 추출 "
   ]
  },
  {
   "cell_type": "code",
   "execution_count": 30,
   "metadata": {},
   "outputs": [],
   "source": [
    "a['exclusive_use_area']=a['exclusive_use_area'].astype(int)"
   ]
  },
  {
   "cell_type": "code",
   "execution_count": 32,
   "metadata": {},
   "outputs": [
    {
     "name": "stdout",
     "output_type": "stream",
     "text": [
      "<class 'pandas.core.frame.DataFrame'>\n",
      "RangeIndex: 1216553 entries, 0 to 1216552\n",
      "Data columns (total 6 columns):\n",
      "city                      1216553 non-null uint8\n",
      "exclusive_use_area        1216553 non-null int64\n",
      "year_of_completion        1216553 non-null int64\n",
      "floor                     1216553 non-null int64\n",
      "transaction_real_price    1216553 non-null int64\n",
      "year                      1216553 non-null int64\n",
      "dtypes: int64(5), uint8(1)\n",
      "memory usage: 47.6 MB\n"
     ]
    }
   ],
   "source": [
    "a.info()"
   ]
  },
  {
   "cell_type": "code",
   "execution_count": 21,
   "metadata": {},
   "outputs": [
    {
     "data": {
      "text/html": [
       "<div>\n",
       "<style scoped>\n",
       "    .dataframe tbody tr th:only-of-type {\n",
       "        vertical-align: middle;\n",
       "    }\n",
       "\n",
       "    .dataframe tbody tr th {\n",
       "        vertical-align: top;\n",
       "    }\n",
       "\n",
       "    .dataframe thead th {\n",
       "        text-align: right;\n",
       "    }\n",
       "</style>\n",
       "<table border=\"1\" class=\"dataframe\">\n",
       "  <thead>\n",
       "    <tr style=\"text-align: right;\">\n",
       "      <th></th>\n",
       "      <th>city</th>\n",
       "      <th>exclusive_use_area</th>\n",
       "      <th>year_of_completion</th>\n",
       "      <th>transaction_year_month</th>\n",
       "      <th>floor</th>\n",
       "      <th>transaction_real_price</th>\n",
       "    </tr>\n",
       "  </thead>\n",
       "  <tbody>\n",
       "    <tr>\n",
       "      <td>0</td>\n",
       "      <td>0</td>\n",
       "      <td>84.82</td>\n",
       "      <td>2002</td>\n",
       "      <td>200801</td>\n",
       "      <td>2</td>\n",
       "      <td>37500</td>\n",
       "    </tr>\n",
       "    <tr>\n",
       "      <td>1</td>\n",
       "      <td>0</td>\n",
       "      <td>99.17</td>\n",
       "      <td>1973</td>\n",
       "      <td>200801</td>\n",
       "      <td>6</td>\n",
       "      <td>20000</td>\n",
       "    </tr>\n",
       "    <tr>\n",
       "      <td>2</td>\n",
       "      <td>0</td>\n",
       "      <td>84.74</td>\n",
       "      <td>2007</td>\n",
       "      <td>200801</td>\n",
       "      <td>6</td>\n",
       "      <td>38500</td>\n",
       "    </tr>\n",
       "    <tr>\n",
       "      <td>3</td>\n",
       "      <td>0</td>\n",
       "      <td>146.39</td>\n",
       "      <td>2003</td>\n",
       "      <td>200801</td>\n",
       "      <td>15</td>\n",
       "      <td>118000</td>\n",
       "    </tr>\n",
       "    <tr>\n",
       "      <td>4</td>\n",
       "      <td>0</td>\n",
       "      <td>194.43</td>\n",
       "      <td>2004</td>\n",
       "      <td>200801</td>\n",
       "      <td>3</td>\n",
       "      <td>120000</td>\n",
       "    </tr>\n",
       "  </tbody>\n",
       "</table>\n",
       "</div>"
      ],
      "text/plain": [
       "   city  exclusive_use_area  year_of_completion  transaction_year_month  \\\n",
       "0     0               84.82                2002                  200801   \n",
       "1     0               99.17                1973                  200801   \n",
       "2     0               84.74                2007                  200801   \n",
       "3     0              146.39                2003                  200801   \n",
       "4     0              194.43                2004                  200801   \n",
       "\n",
       "   floor  transaction_real_price  \n",
       "0      2                   37500  \n",
       "1      6                   20000  \n",
       "2      6                   38500  \n",
       "3     15                  118000  \n",
       "4      3                  120000  "
      ]
     },
     "execution_count": 21,
     "metadata": {},
     "output_type": "execute_result"
    }
   ],
   "source": [
    "df.head()"
   ]
  },
  {
   "cell_type": "code",
   "execution_count": 12,
   "metadata": {},
   "outputs": [],
   "source": [
    "a['year']=a['year'].astype(int)\n",
    "a=a.drop('transaction_year_month',axis=1)\n",
    "#기존의 년월이 포함된컬럼삭제"
   ]
  },
  {
   "cell_type": "code",
   "execution_count": 33,
   "metadata": {},
   "outputs": [],
   "source": [
    "y=a['transaction_real_price']\n",
    "X=a.drop('transaction_real_price', axis=1)"
   ]
  },
  {
   "cell_type": "code",
   "execution_count": 15,
   "metadata": {
    "scrolled": true
   },
   "outputs": [
    {
     "data": {
      "text/plain": [
       "city                  0\n",
       "exclusive_use_area    0\n",
       "year_of_completion    0\n",
       "floor                 0\n",
       "year                  0\n",
       "dtype: int64"
      ]
     },
     "execution_count": 15,
     "metadata": {},
     "output_type": "execute_result"
    }
   ],
   "source": [
    "X.isnull().sum()"
   ]
  },
  {
   "cell_type": "code",
   "execution_count": 16,
   "metadata": {
    "scrolled": false
   },
   "outputs": [
    {
     "data": {
      "text/plain": [
       "0"
      ]
     },
     "execution_count": 16,
     "metadata": {},
     "output_type": "execute_result"
    }
   ],
   "source": [
    "y.isnull().sum()"
   ]
  },
  {
   "cell_type": "code",
   "execution_count": 38,
   "metadata": {
    "scrolled": true
   },
   "outputs": [
    {
     "data": {
      "text/plain": [
       "0           2\n",
       "1           6\n",
       "2           6\n",
       "3          15\n",
       "4           3\n",
       "           ..\n",
       "1216548     3\n",
       "1216549     7\n",
       "1216550     9\n",
       "1216551     7\n",
       "1216552    16\n",
       "Name: floor, Length: 1216553, dtype: int64"
      ]
     },
     "execution_count": 38,
     "metadata": {},
     "output_type": "execute_result"
    }
   ],
   "source": [
    "X['floor']"
   ]
  },
  {
   "cell_type": "code",
   "execution_count": 17,
   "metadata": {},
   "outputs": [],
   "source": [
    "from sklearn.model_selection import train_test_split"
   ]
  },
  {
   "cell_type": "code",
   "execution_count": 34,
   "metadata": {},
   "outputs": [],
   "source": [
    "X_train, X_test, y_train, y_test = train_test_split(X, y, test_size = 0.25, random_state = 42)"
   ]
  },
  {
   "cell_type": "code",
   "execution_count": 22,
   "metadata": {},
   "outputs": [
    {
     "data": {
      "text/plain": [
       "RandomForestRegressor(bootstrap=True, criterion='mse', max_depth=None,\n",
       "                      max_features='auto', max_leaf_nodes=None,\n",
       "                      min_impurity_decrease=0.0, min_impurity_split=None,\n",
       "                      min_samples_leaf=1, min_samples_split=2,\n",
       "                      min_weight_fraction_leaf=0.0, n_estimators=30,\n",
       "                      n_jobs=None, oob_score=False, random_state=None,\n",
       "                      verbose=0, warm_start=False)"
      ]
     },
     "execution_count": 22,
     "metadata": {},
     "output_type": "execute_result"
    }
   ],
   "source": [
    "rf=RandomForestRegressor(n_estimators=30)\n",
    "rf.fit(X,y)\n"
   ]
  },
  {
   "cell_type": "code",
   "execution_count": 23,
   "metadata": {},
   "outputs": [],
   "source": [
    "pred=rf.predict(X_test)"
   ]
  },
  {
   "cell_type": "code",
   "execution_count": 24,
   "metadata": {},
   "outputs": [
    {
     "data": {
      "text/plain": [
       "4667.183923788115"
      ]
     },
     "execution_count": 24,
     "metadata": {},
     "output_type": "execute_result"
    }
   ],
   "source": [
    "from sklearn.metrics import mean_squared_error\n",
    "mean_squared_error(y_test,pred)**0.5"
   ]
  },
  {
   "cell_type": "markdown",
   "metadata": {},
   "source": [
    "### 결론 : transaction_real_price의 예측값과 실제값의 차이는 대략 4667정도 차이가 나는것을 알 수 있다 \n",
    "#### n_stimator를 올리면 예측값과 실제값의 차이는 줄어든다"
   ]
  },
  {
   "cell_type": "markdown",
   "metadata": {},
   "source": [
    "가중치 : 건축년도"
   ]
  },
  {
   "cell_type": "code",
   "execution_count": 47,
   "metadata": {
    "scrolled": true
   },
   "outputs": [
    {
     "data": {
      "text/plain": [
       "RandomForestRegressor(bootstrap=True, criterion='mse', max_depth=None,\n",
       "                      max_features='auto', max_leaf_nodes=None,\n",
       "                      min_impurity_decrease=0.0, min_impurity_split=None,\n",
       "                      min_samples_leaf=1, min_samples_split=2,\n",
       "                      min_weight_fraction_leaf=0.0, n_estimators=30,\n",
       "                      n_jobs=None, oob_score=False, random_state=None,\n",
       "                      verbose=0, warm_start=False)"
      ]
     },
     "execution_count": 47,
     "metadata": {},
     "output_type": "execute_result"
    }
   ],
   "source": [
    "rf1=RandomForestRegressor(n_estimators=30)\n",
    "rf1.fit(X,y,sample_weight=train['year_of_completion'])\n",
    "#밑에서 오류가 나는 이유가 가중치를 두번줘서 그런건가\n"
   ]
  },
  {
   "cell_type": "code",
   "execution_count": 48,
   "metadata": {},
   "outputs": [
    {
     "data": {
      "text/plain": [
       "9839.46046711252"
      ]
     },
     "execution_count": 48,
     "metadata": {},
     "output_type": "execute_result"
    }
   ],
   "source": [
    "pred1=rf1.predict(X_test)\n",
    "from sklearn.metrics import mean_squared_error\n",
    "mean_squared_error(y_test,pred1)**0.5"
   ]
  },
  {
   "cell_type": "markdown",
   "metadata": {},
   "source": [
    "가중치 : 아파트의 층 "
   ]
  },
  {
   "cell_type": "code",
   "execution_count": 35,
   "metadata": {},
   "outputs": [
    {
     "data": {
      "text/plain": [
       "RandomForestRegressor(bootstrap=True, criterion='mse', max_depth=None,\n",
       "                      max_features='auto', max_leaf_nodes=None,\n",
       "                      min_impurity_decrease=0.0, min_impurity_split=None,\n",
       "                      min_samples_leaf=1, min_samples_split=2,\n",
       "                      min_weight_fraction_leaf=0.0, n_estimators=30,\n",
       "                      n_jobs=None, oob_score=False, random_state=None,\n",
       "                      verbose=0, warm_start=False)"
      ]
     },
     "execution_count": 35,
     "metadata": {},
     "output_type": "execute_result"
    }
   ],
   "source": [
    "rf2=RandomForestRegressor(n_estimators=30)\n",
    "rf2.fit(X,y,sample_weight=train['floor'])"
   ]
  },
  {
   "cell_type": "code",
   "execution_count": 78,
   "metadata": {},
   "outputs": [],
   "source": [
    "fl=X_test['floor']"
   ]
  },
  {
   "cell_type": "code",
   "execution_count": 28,
   "metadata": {},
   "outputs": [
    {
     "name": "stdout",
     "output_type": "stream",
     "text": [
      "<class 'pandas.core.frame.DataFrame'>\n",
      "Int64Index: 304139 entries, 1098039 to 978918\n",
      "Data columns (total 5 columns):\n",
      "city                  304139 non-null uint8\n",
      "exclusive_use_area    304139 non-null float64\n",
      "year_of_completion    304139 non-null int64\n",
      "floor                 304139 non-null int64\n",
      "year                  304139 non-null int64\n",
      "dtypes: float64(1), int64(3), uint8(1)\n",
      "memory usage: 11.9 MB\n"
     ]
    }
   ],
   "source": [
    "X_test.info()"
   ]
  },
  {
   "cell_type": "code",
   "execution_count": 36,
   "metadata": {},
   "outputs": [
    {
     "name": "stderr",
     "output_type": "stream",
     "text": [
      "/Users/Moon/opt/anaconda3/lib/python3.7/site-packages/sklearn/ensemble/forest.py:397: RuntimeWarning: invalid value encountered in add\n",
      "  out[0] += prediction\n",
      "/Users/Moon/opt/anaconda3/lib/python3.7/site-packages/numpy/core/fromnumeric.py:90: RuntimeWarning: invalid value encountered in reduce\n",
      "  return ufunc.reduce(obj, axis, dtype, out, **passkwargs)\n"
     ]
    },
    {
     "ename": "ValueError",
     "evalue": "Input contains NaN, infinity or a value too large for dtype('float64').",
     "output_type": "error",
     "traceback": [
      "\u001b[0;31m---------------------------------------------------------------------------\u001b[0m",
      "\u001b[0;31mValueError\u001b[0m                                Traceback (most recent call last)",
      "\u001b[0;32m<ipython-input-36-c42dd46e6a3f>\u001b[0m in \u001b[0;36m<module>\u001b[0;34m\u001b[0m\n\u001b[1;32m      1\u001b[0m \u001b[0mpred2\u001b[0m\u001b[0;34m=\u001b[0m\u001b[0mrf2\u001b[0m\u001b[0;34m.\u001b[0m\u001b[0mpredict\u001b[0m\u001b[0;34m(\u001b[0m\u001b[0mX_test\u001b[0m\u001b[0;34m)\u001b[0m\u001b[0;34m\u001b[0m\u001b[0;34m\u001b[0m\u001b[0m\n\u001b[1;32m      2\u001b[0m \u001b[0;32mfrom\u001b[0m \u001b[0msklearn\u001b[0m\u001b[0;34m.\u001b[0m\u001b[0mmetrics\u001b[0m \u001b[0;32mimport\u001b[0m \u001b[0mmean_squared_error\u001b[0m\u001b[0;34m\u001b[0m\u001b[0;34m\u001b[0m\u001b[0m\n\u001b[0;32m----> 3\u001b[0;31m \u001b[0mmean_squared_error\u001b[0m\u001b[0;34m(\u001b[0m\u001b[0my_test\u001b[0m\u001b[0;34m,\u001b[0m\u001b[0mpred2\u001b[0m\u001b[0;34m,\u001b[0m\u001b[0msample_weight\u001b[0m\u001b[0;34m=\u001b[0m\u001b[0mtrain\u001b[0m\u001b[0;34m[\u001b[0m\u001b[0;34m'floor'\u001b[0m\u001b[0;34m]\u001b[0m\u001b[0;34m)\u001b[0m\u001b[0;34m**\u001b[0m\u001b[0;36m0.5\u001b[0m\u001b[0;34m\u001b[0m\u001b[0;34m\u001b[0m\u001b[0m\n\u001b[0m",
      "\u001b[0;32m~/opt/anaconda3/lib/python3.7/site-packages/sklearn/metrics/regression.py\u001b[0m in \u001b[0;36mmean_squared_error\u001b[0;34m(y_true, y_pred, sample_weight, multioutput)\u001b[0m\n\u001b[1;32m    239\u001b[0m     \"\"\"\n\u001b[1;32m    240\u001b[0m     y_type, y_true, y_pred, multioutput = _check_reg_targets(\n\u001b[0;32m--> 241\u001b[0;31m         y_true, y_pred, multioutput)\n\u001b[0m\u001b[1;32m    242\u001b[0m     \u001b[0mcheck_consistent_length\u001b[0m\u001b[0;34m(\u001b[0m\u001b[0my_true\u001b[0m\u001b[0;34m,\u001b[0m \u001b[0my_pred\u001b[0m\u001b[0;34m,\u001b[0m \u001b[0msample_weight\u001b[0m\u001b[0;34m)\u001b[0m\u001b[0;34m\u001b[0m\u001b[0;34m\u001b[0m\u001b[0m\n\u001b[1;32m    243\u001b[0m     output_errors = np.average((y_true - y_pred) ** 2, axis=0,\n",
      "\u001b[0;32m~/opt/anaconda3/lib/python3.7/site-packages/sklearn/metrics/regression.py\u001b[0m in \u001b[0;36m_check_reg_targets\u001b[0;34m(y_true, y_pred, multioutput)\u001b[0m\n\u001b[1;32m     77\u001b[0m     \u001b[0mcheck_consistent_length\u001b[0m\u001b[0;34m(\u001b[0m\u001b[0my_true\u001b[0m\u001b[0;34m,\u001b[0m \u001b[0my_pred\u001b[0m\u001b[0;34m)\u001b[0m\u001b[0;34m\u001b[0m\u001b[0;34m\u001b[0m\u001b[0m\n\u001b[1;32m     78\u001b[0m     \u001b[0my_true\u001b[0m \u001b[0;34m=\u001b[0m \u001b[0mcheck_array\u001b[0m\u001b[0;34m(\u001b[0m\u001b[0my_true\u001b[0m\u001b[0;34m,\u001b[0m \u001b[0mensure_2d\u001b[0m\u001b[0;34m=\u001b[0m\u001b[0;32mFalse\u001b[0m\u001b[0;34m)\u001b[0m\u001b[0;34m\u001b[0m\u001b[0;34m\u001b[0m\u001b[0m\n\u001b[0;32m---> 79\u001b[0;31m     \u001b[0my_pred\u001b[0m \u001b[0;34m=\u001b[0m \u001b[0mcheck_array\u001b[0m\u001b[0;34m(\u001b[0m\u001b[0my_pred\u001b[0m\u001b[0;34m,\u001b[0m \u001b[0mensure_2d\u001b[0m\u001b[0;34m=\u001b[0m\u001b[0;32mFalse\u001b[0m\u001b[0;34m)\u001b[0m\u001b[0;34m\u001b[0m\u001b[0;34m\u001b[0m\u001b[0m\n\u001b[0m\u001b[1;32m     80\u001b[0m \u001b[0;34m\u001b[0m\u001b[0m\n\u001b[1;32m     81\u001b[0m     \u001b[0;32mif\u001b[0m \u001b[0my_true\u001b[0m\u001b[0;34m.\u001b[0m\u001b[0mndim\u001b[0m \u001b[0;34m==\u001b[0m \u001b[0;36m1\u001b[0m\u001b[0;34m:\u001b[0m\u001b[0;34m\u001b[0m\u001b[0;34m\u001b[0m\u001b[0m\n",
      "\u001b[0;32m~/opt/anaconda3/lib/python3.7/site-packages/sklearn/utils/validation.py\u001b[0m in \u001b[0;36mcheck_array\u001b[0;34m(array, accept_sparse, accept_large_sparse, dtype, order, copy, force_all_finite, ensure_2d, allow_nd, ensure_min_samples, ensure_min_features, warn_on_dtype, estimator)\u001b[0m\n\u001b[1;32m    540\u001b[0m         \u001b[0;32mif\u001b[0m \u001b[0mforce_all_finite\u001b[0m\u001b[0;34m:\u001b[0m\u001b[0;34m\u001b[0m\u001b[0;34m\u001b[0m\u001b[0m\n\u001b[1;32m    541\u001b[0m             _assert_all_finite(array,\n\u001b[0;32m--> 542\u001b[0;31m                                allow_nan=force_all_finite == 'allow-nan')\n\u001b[0m\u001b[1;32m    543\u001b[0m \u001b[0;34m\u001b[0m\u001b[0m\n\u001b[1;32m    544\u001b[0m     \u001b[0;32mif\u001b[0m \u001b[0mensure_min_samples\u001b[0m \u001b[0;34m>\u001b[0m \u001b[0;36m0\u001b[0m\u001b[0;34m:\u001b[0m\u001b[0;34m\u001b[0m\u001b[0;34m\u001b[0m\u001b[0m\n",
      "\u001b[0;32m~/opt/anaconda3/lib/python3.7/site-packages/sklearn/utils/validation.py\u001b[0m in \u001b[0;36m_assert_all_finite\u001b[0;34m(X, allow_nan)\u001b[0m\n\u001b[1;32m     54\u001b[0m                 not allow_nan and not np.isfinite(X).all()):\n\u001b[1;32m     55\u001b[0m             \u001b[0mtype_err\u001b[0m \u001b[0;34m=\u001b[0m \u001b[0;34m'infinity'\u001b[0m \u001b[0;32mif\u001b[0m \u001b[0mallow_nan\u001b[0m \u001b[0;32melse\u001b[0m \u001b[0;34m'NaN, infinity'\u001b[0m\u001b[0;34m\u001b[0m\u001b[0;34m\u001b[0m\u001b[0m\n\u001b[0;32m---> 56\u001b[0;31m             \u001b[0;32mraise\u001b[0m \u001b[0mValueError\u001b[0m\u001b[0;34m(\u001b[0m\u001b[0mmsg_err\u001b[0m\u001b[0;34m.\u001b[0m\u001b[0mformat\u001b[0m\u001b[0;34m(\u001b[0m\u001b[0mtype_err\u001b[0m\u001b[0;34m,\u001b[0m \u001b[0mX\u001b[0m\u001b[0;34m.\u001b[0m\u001b[0mdtype\u001b[0m\u001b[0;34m)\u001b[0m\u001b[0;34m)\u001b[0m\u001b[0;34m\u001b[0m\u001b[0;34m\u001b[0m\u001b[0m\n\u001b[0m\u001b[1;32m     57\u001b[0m     \u001b[0;31m# for object dtype data, we only check for NaNs (GH-13254)\u001b[0m\u001b[0;34m\u001b[0m\u001b[0;34m\u001b[0m\u001b[0;34m\u001b[0m\u001b[0m\n\u001b[1;32m     58\u001b[0m     \u001b[0;32melif\u001b[0m \u001b[0mX\u001b[0m\u001b[0;34m.\u001b[0m\u001b[0mdtype\u001b[0m \u001b[0;34m==\u001b[0m \u001b[0mnp\u001b[0m\u001b[0;34m.\u001b[0m\u001b[0mdtype\u001b[0m\u001b[0;34m(\u001b[0m\u001b[0;34m'object'\u001b[0m\u001b[0;34m)\u001b[0m \u001b[0;32mand\u001b[0m \u001b[0;32mnot\u001b[0m \u001b[0mallow_nan\u001b[0m\u001b[0;34m:\u001b[0m\u001b[0;34m\u001b[0m\u001b[0;34m\u001b[0m\u001b[0m\n",
      "\u001b[0;31mValueError\u001b[0m: Input contains NaN, infinity or a value too large for dtype('float64')."
     ]
    }
   ],
   "source": [
    "pred2=rf2.predict(X_test)\n",
    "from sklearn.metrics import mean_squared_error\n",
    "mean_squared_error(y_test,pred2,sample_weight=train['floor'])**0.5"
   ]
  },
  {
   "cell_type": "code",
   "execution_count": 84,
   "metadata": {
    "scrolled": true
   },
   "outputs": [
    {
     "data": {
      "text/plain": [
       "0"
      ]
     },
     "execution_count": 84,
     "metadata": {},
     "output_type": "execute_result"
    }
   ],
   "source": [
    "fl.isnull().sum()"
   ]
  },
  {
   "cell_type": "code",
   "execution_count": 1,
   "metadata": {},
   "outputs": [
    {
     "ename": "NameError",
     "evalue": "name 'fl' is not defined",
     "output_type": "error",
     "traceback": [
      "\u001b[0;31m---------------------------------------------------------------------------\u001b[0m",
      "\u001b[0;31mNameError\u001b[0m                                 Traceback (most recent call last)",
      "\u001b[0;32m<ipython-input-1-2307ffdc2f59>\u001b[0m in \u001b[0;36m<module>\u001b[0;34m\u001b[0m\n\u001b[0;32m----> 1\u001b[0;31m \u001b[0mfl\u001b[0m\u001b[0;34m.\u001b[0m\u001b[0mdtypes\u001b[0m\u001b[0;34m(\u001b[0m\u001b[0;34m)\u001b[0m\u001b[0;34m\u001b[0m\u001b[0;34m\u001b[0m\u001b[0m\n\u001b[0m",
      "\u001b[0;31mNameError\u001b[0m: name 'fl' is not defined"
     ]
    }
   ],
   "source": [
    "fl.dtypes()"
   ]
  },
  {
   "cell_type": "code",
   "execution_count": 38,
   "metadata": {},
   "outputs": [
    {
     "data": {
      "text/plain": [
       "array([200801, 200802, 200803, 200804, 200805, 200806, 200807, 200808,\n",
       "       200809, 200810, 200811, 200812, 200901, 200902, 200903, 200904,\n",
       "       200905, 200906, 200907, 200908, 200909, 200910, 200911, 200912,\n",
       "       201001, 201002, 201003, 201004, 201005, 201006, 201007, 201008,\n",
       "       201009, 201010, 201011, 201012, 201101, 201102, 201103, 201104,\n",
       "       201105, 201106, 201107, 201108, 201109, 201110, 201111, 201112,\n",
       "       201201, 201202, 201203, 201204, 201205, 201206, 201207, 201208,\n",
       "       201209, 201210, 201211, 201212, 201301, 201302, 201303, 201304,\n",
       "       201305, 201306, 201307, 201308, 201309, 201310, 201311, 201312,\n",
       "       201401, 201402, 201403, 201404, 201405, 201406, 201407, 201408,\n",
       "       201409, 201410, 201411, 201412, 201501, 201502, 201503, 201504,\n",
       "       201505, 201506, 201507, 201508, 201509, 201510, 201511, 201512,\n",
       "       201601, 201602, 201603, 201604, 201605, 201606, 201607, 201608,\n",
       "       201609, 201610, 201611, 201612, 201701, 201702, 201703, 201704,\n",
       "       201705, 201706, 201707, 201708, 201709, 201710, 201711])"
      ]
     },
     "execution_count": 38,
     "metadata": {},
     "output_type": "execute_result"
    }
   ],
   "source": [
    "df['transaction_year_month'].unique()"
   ]
  },
  {
   "cell_type": "code",
   "execution_count": 40,
   "metadata": {},
   "outputs": [
    {
     "data": {
      "text/html": [
       "<div>\n",
       "<style scoped>\n",
       "    .dataframe tbody tr th:only-of-type {\n",
       "        vertical-align: middle;\n",
       "    }\n",
       "\n",
       "    .dataframe tbody tr th {\n",
       "        vertical-align: top;\n",
       "    }\n",
       "\n",
       "    .dataframe thead th {\n",
       "        text-align: right;\n",
       "    }\n",
       "</style>\n",
       "<table border=\"1\" class=\"dataframe\">\n",
       "  <thead>\n",
       "    <tr style=\"text-align: right;\">\n",
       "      <th></th>\n",
       "      <th>city</th>\n",
       "      <th>exclusive_use_area</th>\n",
       "      <th>year_of_completion</th>\n",
       "      <th>transaction_year_month</th>\n",
       "      <th>floor</th>\n",
       "      <th>transaction_real_price</th>\n",
       "    </tr>\n",
       "  </thead>\n",
       "  <tbody>\n",
       "    <tr>\n",
       "      <td>0</td>\n",
       "      <td>0</td>\n",
       "      <td>84.8200</td>\n",
       "      <td>2002</td>\n",
       "      <td>200801</td>\n",
       "      <td>2</td>\n",
       "      <td>37500</td>\n",
       "    </tr>\n",
       "    <tr>\n",
       "      <td>1</td>\n",
       "      <td>0</td>\n",
       "      <td>99.1700</td>\n",
       "      <td>1973</td>\n",
       "      <td>200801</td>\n",
       "      <td>6</td>\n",
       "      <td>20000</td>\n",
       "    </tr>\n",
       "    <tr>\n",
       "      <td>2</td>\n",
       "      <td>0</td>\n",
       "      <td>84.7400</td>\n",
       "      <td>2007</td>\n",
       "      <td>200801</td>\n",
       "      <td>6</td>\n",
       "      <td>38500</td>\n",
       "    </tr>\n",
       "    <tr>\n",
       "      <td>3</td>\n",
       "      <td>0</td>\n",
       "      <td>146.3900</td>\n",
       "      <td>2003</td>\n",
       "      <td>200801</td>\n",
       "      <td>15</td>\n",
       "      <td>118000</td>\n",
       "    </tr>\n",
       "    <tr>\n",
       "      <td>4</td>\n",
       "      <td>0</td>\n",
       "      <td>194.4300</td>\n",
       "      <td>2004</td>\n",
       "      <td>200801</td>\n",
       "      <td>3</td>\n",
       "      <td>120000</td>\n",
       "    </tr>\n",
       "    <tr>\n",
       "      <td>...</td>\n",
       "      <td>...</td>\n",
       "      <td>...</td>\n",
       "      <td>...</td>\n",
       "      <td>...</td>\n",
       "      <td>...</td>\n",
       "      <td>...</td>\n",
       "    </tr>\n",
       "    <tr>\n",
       "      <td>1216548</td>\n",
       "      <td>1</td>\n",
       "      <td>59.8245</td>\n",
       "      <td>2012</td>\n",
       "      <td>201711</td>\n",
       "      <td>3</td>\n",
       "      <td>22000</td>\n",
       "    </tr>\n",
       "    <tr>\n",
       "      <td>1216549</td>\n",
       "      <td>1</td>\n",
       "      <td>84.9923</td>\n",
       "      <td>2012</td>\n",
       "      <td>201711</td>\n",
       "      <td>7</td>\n",
       "      <td>30750</td>\n",
       "    </tr>\n",
       "    <tr>\n",
       "      <td>1216550</td>\n",
       "      <td>1</td>\n",
       "      <td>84.9923</td>\n",
       "      <td>2012</td>\n",
       "      <td>201711</td>\n",
       "      <td>9</td>\n",
       "      <td>29500</td>\n",
       "    </tr>\n",
       "    <tr>\n",
       "      <td>1216551</td>\n",
       "      <td>1</td>\n",
       "      <td>101.7400</td>\n",
       "      <td>2008</td>\n",
       "      <td>201711</td>\n",
       "      <td>7</td>\n",
       "      <td>26700</td>\n",
       "    </tr>\n",
       "    <tr>\n",
       "      <td>1216552</td>\n",
       "      <td>1</td>\n",
       "      <td>84.9923</td>\n",
       "      <td>2012</td>\n",
       "      <td>201711</td>\n",
       "      <td>16</td>\n",
       "      <td>28800</td>\n",
       "    </tr>\n",
       "  </tbody>\n",
       "</table>\n",
       "<p>1216553 rows × 6 columns</p>\n",
       "</div>"
      ],
      "text/plain": [
       "         city  exclusive_use_area  year_of_completion  transaction_year_month  \\\n",
       "0           0             84.8200                2002                  200801   \n",
       "1           0             99.1700                1973                  200801   \n",
       "2           0             84.7400                2007                  200801   \n",
       "3           0            146.3900                2003                  200801   \n",
       "4           0            194.4300                2004                  200801   \n",
       "...       ...                 ...                 ...                     ...   \n",
       "1216548     1             59.8245                2012                  201711   \n",
       "1216549     1             84.9923                2012                  201711   \n",
       "1216550     1             84.9923                2012                  201711   \n",
       "1216551     1            101.7400                2008                  201711   \n",
       "1216552     1             84.9923                2012                  201711   \n",
       "\n",
       "         floor  transaction_real_price  \n",
       "0            2                   37500  \n",
       "1            6                   20000  \n",
       "2            6                   38500  \n",
       "3           15                  118000  \n",
       "4            3                  120000  \n",
       "...        ...                     ...  \n",
       "1216548      3                   22000  \n",
       "1216549      7                   30750  \n",
       "1216550      9                   29500  \n",
       "1216551      7                   26700  \n",
       "1216552     16                   28800  \n",
       "\n",
       "[1216553 rows x 6 columns]"
      ]
     },
     "execution_count": 40,
     "metadata": {},
     "output_type": "execute_result"
    }
   ],
   "source": [
    "df"
   ]
  },
  {
   "cell_type": "code",
   "execution_count": 33,
   "metadata": {
    "scrolled": true
   },
   "outputs": [
    {
     "data": {
      "text/html": [
       "<div>\n",
       "<style scoped>\n",
       "    .dataframe tbody tr th:only-of-type {\n",
       "        vertical-align: middle;\n",
       "    }\n",
       "\n",
       "    .dataframe tbody tr th {\n",
       "        vertical-align: top;\n",
       "    }\n",
       "\n",
       "    .dataframe thead th {\n",
       "        text-align: right;\n",
       "    }\n",
       "</style>\n",
       "<table border=\"1\" class=\"dataframe\">\n",
       "  <thead>\n",
       "    <tr style=\"text-align: right;\">\n",
       "      <th></th>\n",
       "      <th>city</th>\n",
       "      <th>exclusive_use_area</th>\n",
       "      <th>year_of_completion</th>\n",
       "      <th>floor</th>\n",
       "      <th>transaction_real_price</th>\n",
       "      <th>year</th>\n",
       "    </tr>\n",
       "  </thead>\n",
       "  <tbody>\n",
       "    <tr>\n",
       "      <td>0</td>\n",
       "      <td>0</td>\n",
       "      <td>84.8200</td>\n",
       "      <td>2002</td>\n",
       "      <td>2</td>\n",
       "      <td>37500</td>\n",
       "      <td>2008</td>\n",
       "    </tr>\n",
       "    <tr>\n",
       "      <td>1</td>\n",
       "      <td>0</td>\n",
       "      <td>99.1700</td>\n",
       "      <td>1973</td>\n",
       "      <td>6</td>\n",
       "      <td>20000</td>\n",
       "      <td>2008</td>\n",
       "    </tr>\n",
       "    <tr>\n",
       "      <td>2</td>\n",
       "      <td>0</td>\n",
       "      <td>84.7400</td>\n",
       "      <td>2007</td>\n",
       "      <td>6</td>\n",
       "      <td>38500</td>\n",
       "      <td>2008</td>\n",
       "    </tr>\n",
       "    <tr>\n",
       "      <td>3</td>\n",
       "      <td>0</td>\n",
       "      <td>146.3900</td>\n",
       "      <td>2003</td>\n",
       "      <td>15</td>\n",
       "      <td>118000</td>\n",
       "      <td>2008</td>\n",
       "    </tr>\n",
       "    <tr>\n",
       "      <td>4</td>\n",
       "      <td>0</td>\n",
       "      <td>194.4300</td>\n",
       "      <td>2004</td>\n",
       "      <td>3</td>\n",
       "      <td>120000</td>\n",
       "      <td>2008</td>\n",
       "    </tr>\n",
       "    <tr>\n",
       "      <td>...</td>\n",
       "      <td>...</td>\n",
       "      <td>...</td>\n",
       "      <td>...</td>\n",
       "      <td>...</td>\n",
       "      <td>...</td>\n",
       "      <td>...</td>\n",
       "    </tr>\n",
       "    <tr>\n",
       "      <td>1216548</td>\n",
       "      <td>1</td>\n",
       "      <td>59.8245</td>\n",
       "      <td>2012</td>\n",
       "      <td>3</td>\n",
       "      <td>22000</td>\n",
       "      <td>2017</td>\n",
       "    </tr>\n",
       "    <tr>\n",
       "      <td>1216549</td>\n",
       "      <td>1</td>\n",
       "      <td>84.9923</td>\n",
       "      <td>2012</td>\n",
       "      <td>7</td>\n",
       "      <td>30750</td>\n",
       "      <td>2017</td>\n",
       "    </tr>\n",
       "    <tr>\n",
       "      <td>1216550</td>\n",
       "      <td>1</td>\n",
       "      <td>84.9923</td>\n",
       "      <td>2012</td>\n",
       "      <td>9</td>\n",
       "      <td>29500</td>\n",
       "      <td>2017</td>\n",
       "    </tr>\n",
       "    <tr>\n",
       "      <td>1216551</td>\n",
       "      <td>1</td>\n",
       "      <td>101.7400</td>\n",
       "      <td>2008</td>\n",
       "      <td>7</td>\n",
       "      <td>26700</td>\n",
       "      <td>2017</td>\n",
       "    </tr>\n",
       "    <tr>\n",
       "      <td>1216552</td>\n",
       "      <td>1</td>\n",
       "      <td>84.9923</td>\n",
       "      <td>2012</td>\n",
       "      <td>16</td>\n",
       "      <td>28800</td>\n",
       "      <td>2017</td>\n",
       "    </tr>\n",
       "  </tbody>\n",
       "</table>\n",
       "<p>1216553 rows × 6 columns</p>\n",
       "</div>"
      ],
      "text/plain": [
       "         city  exclusive_use_area  year_of_completion  floor  \\\n",
       "0           0             84.8200                2002      2   \n",
       "1           0             99.1700                1973      6   \n",
       "2           0             84.7400                2007      6   \n",
       "3           0            146.3900                2003     15   \n",
       "4           0            194.4300                2004      3   \n",
       "...       ...                 ...                 ...    ...   \n",
       "1216548     1             59.8245                2012      3   \n",
       "1216549     1             84.9923                2012      7   \n",
       "1216550     1             84.9923                2012      9   \n",
       "1216551     1            101.7400                2008      7   \n",
       "1216552     1             84.9923                2012     16   \n",
       "\n",
       "         transaction_real_price  year  \n",
       "0                         37500  2008  \n",
       "1                         20000  2008  \n",
       "2                         38500  2008  \n",
       "3                        118000  2008  \n",
       "4                        120000  2008  \n",
       "...                         ...   ...  \n",
       "1216548                   22000  2017  \n",
       "1216549                   30750  2017  \n",
       "1216550                   29500  2017  \n",
       "1216551                   26700  2017  \n",
       "1216552                   28800  2017  \n",
       "\n",
       "[1216553 rows x 6 columns]"
      ]
     },
     "execution_count": 33,
     "metadata": {},
     "output_type": "execute_result"
    }
   ],
   "source": [
    "a"
   ]
  },
  {
   "cell_type": "code",
   "execution_count": 34,
   "metadata": {
    "scrolled": false
   },
   "outputs": [
    {
     "data": {
      "text/plain": [
       "city                      0\n",
       "exclusive_use_area        0\n",
       "year_of_completion        0\n",
       "floor                     0\n",
       "transaction_real_price    0\n",
       "year                      0\n",
       "dtype: int64"
      ]
     },
     "execution_count": 34,
     "metadata": {},
     "output_type": "execute_result"
    }
   ],
   "source": [
    "a.isnull().sum()"
   ]
  },
  {
   "cell_type": "code",
   "execution_count": 42,
   "metadata": {
    "scrolled": true
   },
   "outputs": [
    {
     "data": {
      "text/plain": [
       "Index(['city', 'exclusive_use_area', 'year_of_completion', 'floor',\n",
       "       'transaction_real_price', 'year'],\n",
       "      dtype='object')"
      ]
     },
     "execution_count": 42,
     "metadata": {},
     "output_type": "execute_result"
    }
   ],
   "source": [
    "a.columns"
   ]
  },
  {
   "cell_type": "code",
   "execution_count": 48,
   "metadata": {
    "scrolled": true
   },
   "outputs": [
    {
     "data": {
      "text/html": [
       "<div>\n",
       "<style scoped>\n",
       "    .dataframe tbody tr th:only-of-type {\n",
       "        vertical-align: middle;\n",
       "    }\n",
       "\n",
       "    .dataframe tbody tr th {\n",
       "        vertical-align: top;\n",
       "    }\n",
       "\n",
       "    .dataframe thead th {\n",
       "        text-align: right;\n",
       "    }\n",
       "</style>\n",
       "<table border=\"1\" class=\"dataframe\">\n",
       "  <thead>\n",
       "    <tr style=\"text-align: right;\">\n",
       "      <th></th>\n",
       "      <th>city</th>\n",
       "      <th>exclusive_use_area</th>\n",
       "      <th>year_of_completion</th>\n",
       "      <th>floor</th>\n",
       "      <th>transaction_real_price</th>\n",
       "      <th>year</th>\n",
       "    </tr>\n",
       "  </thead>\n",
       "  <tbody>\n",
       "    <tr>\n",
       "      <td>city</td>\n",
       "      <td>1.000000</td>\n",
       "      <td>0.011104</td>\n",
       "      <td>0.033627</td>\n",
       "      <td>0.101225</td>\n",
       "      <td>-0.440886</td>\n",
       "      <td>-0.126001</td>\n",
       "    </tr>\n",
       "    <tr>\n",
       "      <td>exclusive_use_area</td>\n",
       "      <td>0.011104</td>\n",
       "      <td>1.000000</td>\n",
       "      <td>0.168540</td>\n",
       "      <td>0.134716</td>\n",
       "      <td>0.561563</td>\n",
       "      <td>0.018788</td>\n",
       "    </tr>\n",
       "    <tr>\n",
       "      <td>year_of_completion</td>\n",
       "      <td>0.033627</td>\n",
       "      <td>0.168540</td>\n",
       "      <td>1.000000</td>\n",
       "      <td>0.243510</td>\n",
       "      <td>0.052656</td>\n",
       "      <td>0.092627</td>\n",
       "    </tr>\n",
       "    <tr>\n",
       "      <td>floor</td>\n",
       "      <td>0.101225</td>\n",
       "      <td>0.134716</td>\n",
       "      <td>0.243510</td>\n",
       "      <td>1.000000</td>\n",
       "      <td>0.112278</td>\n",
       "      <td>0.013288</td>\n",
       "    </tr>\n",
       "    <tr>\n",
       "      <td>transaction_real_price</td>\n",
       "      <td>-0.440886</td>\n",
       "      <td>0.561563</td>\n",
       "      <td>0.052656</td>\n",
       "      <td>0.112278</td>\n",
       "      <td>1.000000</td>\n",
       "      <td>0.183714</td>\n",
       "    </tr>\n",
       "    <tr>\n",
       "      <td>year</td>\n",
       "      <td>-0.126001</td>\n",
       "      <td>0.018788</td>\n",
       "      <td>0.092627</td>\n",
       "      <td>0.013288</td>\n",
       "      <td>0.183714</td>\n",
       "      <td>1.000000</td>\n",
       "    </tr>\n",
       "  </tbody>\n",
       "</table>\n",
       "</div>"
      ],
      "text/plain": [
       "                            city  exclusive_use_area  year_of_completion  \\\n",
       "city                    1.000000            0.011104            0.033627   \n",
       "exclusive_use_area      0.011104            1.000000            0.168540   \n",
       "year_of_completion      0.033627            0.168540            1.000000   \n",
       "floor                   0.101225            0.134716            0.243510   \n",
       "transaction_real_price -0.440886            0.561563            0.052656   \n",
       "year                   -0.126001            0.018788            0.092627   \n",
       "\n",
       "                           floor  transaction_real_price      year  \n",
       "city                    0.101225               -0.440886 -0.126001  \n",
       "exclusive_use_area      0.134716                0.561563  0.018788  \n",
       "year_of_completion      0.243510                0.052656  0.092627  \n",
       "floor                   1.000000                0.112278  0.013288  \n",
       "transaction_real_price  0.112278                1.000000  0.183714  \n",
       "year                    0.013288                0.183714  1.000000  "
      ]
     },
     "execution_count": 48,
     "metadata": {},
     "output_type": "execute_result"
    }
   ],
   "source": [
    "a.corr()"
   ]
  },
  {
   "cell_type": "code",
   "execution_count": 49,
   "metadata": {
    "scrolled": true
   },
   "outputs": [
    {
     "data": {
      "text/plain": [
       "<matplotlib.axes._subplots.AxesSubplot at 0x1a40492690>"
      ]
     },
     "execution_count": 49,
     "metadata": {},
     "output_type": "execute_result"
    },
    {
     "name": "stderr",
     "output_type": "stream",
     "text": [
      "findfont: Font family ['NanumSquareR'] not found. Falling back to DejaVu Sans.\n"
     ]
    },
    {
     "data": {
      "image/png": "[encoded data removed]",
      "text/plain": [
       "<Figure size 432x288 with 1 Axes>"
      ]
     },
     "metadata": {
      "needs_background": "light"
     },
     "output_type": "display_data"
    }
   ],
   "source": [
    "sns.distplot(a['year'])"
   ]
  },
  {
   "cell_type": "code",
   "execution_count": 61,
   "metadata": {},
   "outputs": [],
   "source": [
    "X=a[['city','exclusive_use_area','year_of_completion','floor','year']]\n",
    "y=a['transaction_real_price']"
   ]
  },
  {
   "cell_type": "code",
   "execution_count": 63,
   "metadata": {},
   "outputs": [],
   "source": [
    "from sklearn.model_selection import train_test_split"
   ]
  },
  {
   "cell_type": "code",
   "execution_count": 64,
   "metadata": {
    "scrolled": true
   },
   "outputs": [],
   "source": [
    "X_train, X_test, y_train, y_test = train_test_split(X,y,test_size = 0.3)"
   ]
  },
  {
   "cell_type": "code",
   "execution_count": 70,
   "metadata": {},
   "outputs": [
    {
     "name": "stdout",
     "output_type": "stream",
     "text": [
      "Training until validation scores don't improve for 200 rounds\n",
      "[500]\ttraining's rmse: 14466.3\n",
      "[1000]\ttraining's rmse: 13856.7\n",
      "[1500]\ttraining's rmse: 13466.1\n",
      "[2000]\ttraining's rmse: 13192.5\n",
      "Did not meet early stopping. Best iteration is:\n",
      "[2000]\ttraining's rmse: 13192.5\n"
     ]
    }
   ],
   "source": [
    "import lightgbm as lgb\n",
    "param = {'num_leaves' : 100, \n",
    "         'min_data_in_leaf' : 30,\n",
    "         'objective' : 'regression', # 모델의 목적 \n",
    "         'max_depth' : 6,\n",
    "         'learning_rate' : 0.02,\n",
    "         'boosting' : 'gbdt',\n",
    "         'feature_fraction' : 0.7522,\n",
    "         'bagging_freq' : 1,\n",
    "         'bagging_fraction' : 0.7083,\n",
    "         'bagging_seed' : 11,\n",
    "         'metric' : 'rmse', #평가지표 : rmse\n",
    "         'random_state': 2019} \n",
    "\n",
    "trn_data = lgb.Dataset(X_train, label=y_train)\n",
    "num_round = 2000\n",
    "\n",
    "clf = lgb.train(param, trn_data, num_round, valid_sets=[trn_data], verbose_eval=500, early_stopping_rounds = 200)"
   ]
  },
  {
   "cell_type": "code",
   "execution_count": 71,
   "metadata": {},
   "outputs": [],
   "source": [
    "predictions = clf.predict(X_test, num_iteration=clf.best_iteration)"
   ]
  },
  {
   "cell_type": "code",
   "execution_count": 72,
   "metadata": {},
   "outputs": [
    {
     "data": {
      "text/plain": [
       "array([31165.19063432, 25773.40159476, 18668.63800161, ...,\n",
       "       83946.94156208, 29461.69379043,  6945.07951159])"
      ]
     },
     "execution_count": 72,
     "metadata": {},
     "output_type": "execute_result"
    }
   ],
   "source": [
    "predictions"
   ]
  },
  {
   "cell_type": "code",
   "execution_count": 73,
   "metadata": {},
   "outputs": [
    {
     "data": {
      "text/plain": [
       "<matplotlib.collections.PathCollection at 0x1a24d8b510>"
      ]
     },
     "execution_count": 73,
     "metadata": {},
     "output_type": "execute_result"
    },
    {
     "data": {
      "image/png": "[encoded data removed]",
      "text/plain": [
       "<Figure size 432x288 with 1 Axes>"
      ]
     },
     "metadata": {
      "needs_background": "light"
     },
     "output_type": "display_data"
    }
   ],
   "source": [
    "plt.scatter(predictions,y_test)"
   ]
  },
  {
   "cell_type": "code",
   "execution_count": 76,
   "metadata": {},
   "outputs": [
    {
     "data": {
      "text/plain": [
       "array([31165.19063432, 25773.40159476, 18668.63800161, ...,\n",
       "       83946.94156208, 29461.69379043,  6945.07951159])"
      ]
     },
     "execution_count": 76,
     "metadata": {},
     "output_type": "execute_result"
    }
   ],
   "source": [
    "predictions"
   ]
  },
  {
   "cell_type": "code",
   "execution_count": 80,
   "metadata": {},
   "outputs": [
    {
     "data": {
      "text/plain": [
       "38196.54566549615"
      ]
     },
     "execution_count": 80,
     "metadata": {},
     "output_type": "execute_result"
    }
   ],
   "source": [
    "predictions.mean()"
   ]
  },
  {
   "cell_type": "code",
   "execution_count": 81,
   "metadata": {},
   "outputs": [
    {
     "data": {
      "text/plain": [
       "38152.86855761907"
      ]
     },
     "execution_count": 81,
     "metadata": {},
     "output_type": "execute_result"
    }
   ],
   "source": [
    "y_test.mean()"
   ]
  },
  {
   "cell_type": "code",
   "execution_count": 82,
   "metadata": {},
   "outputs": [],
   "source": [
    "diff=y_test-predictions"
   ]
  },
  {
   "cell_type": "code",
   "execution_count": 83,
   "metadata": {},
   "outputs": [
    {
     "data": {
      "text/plain": [
       "791422       634.809366\n",
       "1061666      226.598405\n",
       "740625      4331.361998\n",
       "539344     13600.646740\n",
       "1116810    -6756.970146\n",
       "               ...     \n",
       "655139      1652.006904\n",
       "782775     -2532.644916\n",
       "578948    -16946.941562\n",
       "876996      5738.306210\n",
       "737122      1054.920488\n",
       "Name: transaction_real_price, Length: 364966, dtype: float64"
      ]
     },
     "execution_count": 83,
     "metadata": {},
     "output_type": "execute_result"
    }
   ],
   "source": [
    "diff"
   ]
  },
  {
   "cell_type": "code",
   "execution_count": 86,
   "metadata": {},
   "outputs": [],
   "source": [
    "from sklearn.metrics import mean_squared_error\n",
    "\n",
    "RMSE = mean_squared_error(y_test, predictions)**0.5"
   ]
  },
  {
   "cell_type": "code",
   "execution_count": 87,
   "metadata": {
    "scrolled": true
   },
   "outputs": [
    {
     "data": {
      "text/plain": [
       "13362.821719164067"
      ]
     },
     "execution_count": 87,
     "metadata": {},
     "output_type": "execute_result"
    }
   ],
   "source": [
    "RMSE\n",
    "#모델을 잘못사용하고 있다는 결론"
   ]
  },
  {
   "cell_type": "code",
   "execution_count": null,
   "metadata": {},
   "outputs": [],
   "source": []
  }
 ],
 "metadata": {
  "kernelspec": {
   "display_name": "Python 3",
   "language": "python",
   "name": "python3"
  },
  "language_info": {
   "codemirror_mode": {
    "name": "ipython",
    "version": 3
   },
   "file_extension": ".py",
   "mimetype": "text/x-python",
   "name": "python",
   "nbconvert_exporter": "python",
   "pygments_lexer": "ipython3",
   "version": "3.7.4"
  }
 },
 "nbformat": 4,
 "nbformat_minor": 2
}
